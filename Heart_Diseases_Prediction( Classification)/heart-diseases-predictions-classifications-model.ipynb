{
 "cells": [
  {
   "cell_type": "markdown",
   "metadata": {
    "id": "zw_pcdna2cIS",
    "papermill": {
     "duration": 0.042813,
     "end_time": "2020-11-23T11:32:17.686675",
     "exception": false,
     "start_time": "2020-11-23T11:32:17.643862",
     "status": "completed"
    },
    "tags": []
   },
   "source": [
    "# Heart Disease Prediction - All Classifications Model Classified\n",
    "\n",
    "We are going to learn about all the classifications alogorithms uses scalability along with percentage of accuracy strength.\n",
    "\n",
    "We will be going to analyse Heart Diseases Dataset to predict wheather the Patient has certain diseases or not.\n",
    "\n"
   ]
  },
  {
   "cell_type": "code",
   "execution_count": 1,
   "metadata": {
    "execution": {
     "iopub.execute_input": "2020-11-23T11:32:17.776179Z",
     "iopub.status.busy": "2020-11-23T11:32:17.775458Z",
     "iopub.status.idle": "2020-11-23T11:32:18.570340Z",
     "shell.execute_reply": "2020-11-23T11:32:18.569236Z"
    },
    "id": "9EwkL3ZDYfHZ",
    "papermill": {
     "duration": 0.84233,
     "end_time": "2020-11-23T11:32:18.570477",
     "exception": false,
     "start_time": "2020-11-23T11:32:17.728147",
     "status": "completed"
    },
    "tags": []
   },
   "outputs": [],
   "source": [
    "# Importing initail library for data exploratory\n",
    "import numpy as np\n",
    "import pandas as pd\n",
    "import matplotlib.pyplot as plt\n",
    "import seaborn as sns\n",
    "%matplotlib inline\n"
   ]
  },
  {
   "cell_type": "code",
   "execution_count": 2,
   "metadata": {
    "execution": {
     "iopub.execute_input": "2020-11-23T11:32:18.660151Z",
     "iopub.status.busy": "2020-11-23T11:32:18.659451Z",
     "iopub.status.idle": "2020-11-23T11:32:18.689271Z",
     "shell.execute_reply": "2020-11-23T11:32:18.689728Z"
    },
    "id": "hfHVNk-C3-3U",
    "outputId": "1635dde8-d1ea-4195-c548-99a9c8b17acc",
    "papermill": {
     "duration": 0.077688,
     "end_time": "2020-11-23T11:32:18.689840",
     "exception": false,
     "start_time": "2020-11-23T11:32:18.612152",
     "status": "completed"
    },
    "tags": []
   },
   "outputs": [
    {
     "data": {
      "text/html": [
       "<div>\n",
       "<style scoped>\n",
       "    .dataframe tbody tr th:only-of-type {\n",
       "        vertical-align: middle;\n",
       "    }\n",
       "\n",
       "    .dataframe tbody tr th {\n",
       "        vertical-align: top;\n",
       "    }\n",
       "\n",
       "    .dataframe thead th {\n",
       "        text-align: right;\n",
       "    }\n",
       "</style>\n",
       "<table border=\"1\" class=\"dataframe\">\n",
       "  <thead>\n",
       "    <tr style=\"text-align: right;\">\n",
       "      <th></th>\n",
       "      <th>age</th>\n",
       "      <th>sex</th>\n",
       "      <th>cp</th>\n",
       "      <th>trestbps</th>\n",
       "      <th>chol</th>\n",
       "      <th>fbs</th>\n",
       "      <th>restecg</th>\n",
       "      <th>thalach</th>\n",
       "      <th>exang</th>\n",
       "      <th>oldpeak</th>\n",
       "      <th>slope</th>\n",
       "      <th>ca</th>\n",
       "      <th>thal</th>\n",
       "      <th>target</th>\n",
       "    </tr>\n",
       "  </thead>\n",
       "  <tbody>\n",
       "    <tr>\n",
       "      <th>0</th>\n",
       "      <td>63</td>\n",
       "      <td>1</td>\n",
       "      <td>3</td>\n",
       "      <td>145</td>\n",
       "      <td>233</td>\n",
       "      <td>1</td>\n",
       "      <td>0</td>\n",
       "      <td>150</td>\n",
       "      <td>0</td>\n",
       "      <td>2.3</td>\n",
       "      <td>0</td>\n",
       "      <td>0</td>\n",
       "      <td>1</td>\n",
       "      <td>1</td>\n",
       "    </tr>\n",
       "    <tr>\n",
       "      <th>1</th>\n",
       "      <td>37</td>\n",
       "      <td>1</td>\n",
       "      <td>2</td>\n",
       "      <td>130</td>\n",
       "      <td>250</td>\n",
       "      <td>0</td>\n",
       "      <td>1</td>\n",
       "      <td>187</td>\n",
       "      <td>0</td>\n",
       "      <td>3.5</td>\n",
       "      <td>0</td>\n",
       "      <td>0</td>\n",
       "      <td>2</td>\n",
       "      <td>1</td>\n",
       "    </tr>\n",
       "    <tr>\n",
       "      <th>2</th>\n",
       "      <td>41</td>\n",
       "      <td>0</td>\n",
       "      <td>1</td>\n",
       "      <td>130</td>\n",
       "      <td>204</td>\n",
       "      <td>0</td>\n",
       "      <td>0</td>\n",
       "      <td>172</td>\n",
       "      <td>0</td>\n",
       "      <td>1.4</td>\n",
       "      <td>2</td>\n",
       "      <td>0</td>\n",
       "      <td>2</td>\n",
       "      <td>1</td>\n",
       "    </tr>\n",
       "    <tr>\n",
       "      <th>3</th>\n",
       "      <td>56</td>\n",
       "      <td>1</td>\n",
       "      <td>1</td>\n",
       "      <td>120</td>\n",
       "      <td>236</td>\n",
       "      <td>0</td>\n",
       "      <td>1</td>\n",
       "      <td>178</td>\n",
       "      <td>0</td>\n",
       "      <td>0.8</td>\n",
       "      <td>2</td>\n",
       "      <td>0</td>\n",
       "      <td>2</td>\n",
       "      <td>1</td>\n",
       "    </tr>\n",
       "    <tr>\n",
       "      <th>4</th>\n",
       "      <td>57</td>\n",
       "      <td>0</td>\n",
       "      <td>0</td>\n",
       "      <td>120</td>\n",
       "      <td>354</td>\n",
       "      <td>0</td>\n",
       "      <td>1</td>\n",
       "      <td>163</td>\n",
       "      <td>1</td>\n",
       "      <td>0.6</td>\n",
       "      <td>2</td>\n",
       "      <td>0</td>\n",
       "      <td>2</td>\n",
       "      <td>1</td>\n",
       "    </tr>\n",
       "  </tbody>\n",
       "</table>\n",
       "</div>"
      ],
      "text/plain": [
       "   age  sex  cp  trestbps  chol  fbs  restecg  thalach  exang  oldpeak  slope  \\\n",
       "0   63    1   3       145   233    1        0      150      0      2.3      0   \n",
       "1   37    1   2       130   250    0        1      187      0      3.5      0   \n",
       "2   41    0   1       130   204    0        0      172      0      1.4      2   \n",
       "3   56    1   1       120   236    0        1      178      0      0.8      2   \n",
       "4   57    0   0       120   354    0        1      163      1      0.6      2   \n",
       "\n",
       "   ca  thal  target  \n",
       "0   0     1       1  \n",
       "1   0     2       1  \n",
       "2   0     2       1  \n",
       "3   0     2       1  \n",
       "4   0     2       1  "
      ]
     },
     "execution_count": 2,
     "metadata": {},
     "output_type": "execute_result"
    }
   ],
   "source": [
    "# importing dataset\n",
    "df = pd.read_csv(\"../input/heart-diseases-prediction-classification/heart.csv\")\n",
    "df.head()"
   ]
  },
  {
   "cell_type": "code",
   "execution_count": 3,
   "metadata": {
    "execution": {
     "iopub.execute_input": "2020-11-23T11:32:18.786191Z",
     "iopub.status.busy": "2020-11-23T11:32:18.785429Z",
     "iopub.status.idle": "2020-11-23T11:32:18.789307Z",
     "shell.execute_reply": "2020-11-23T11:32:18.790207Z"
    },
    "id": "ph226VUn_iOi",
    "outputId": "94488caa-c4c3-4796-a6d3-34f2ab1ec2c1",
    "papermill": {
     "duration": 0.057817,
     "end_time": "2020-11-23T11:32:18.790389",
     "exception": false,
     "start_time": "2020-11-23T11:32:18.732572",
     "status": "completed"
    },
    "tags": []
   },
   "outputs": [
    {
     "name": "stdout",
     "output_type": "stream",
     "text": [
      "<class 'pandas.core.frame.DataFrame'>\n",
      "RangeIndex: 303 entries, 0 to 302\n",
      "Data columns (total 14 columns):\n",
      " #   Column    Non-Null Count  Dtype  \n",
      "---  ------    --------------  -----  \n",
      " 0   age       303 non-null    int64  \n",
      " 1   sex       303 non-null    int64  \n",
      " 2   cp        303 non-null    int64  \n",
      " 3   trestbps  303 non-null    int64  \n",
      " 4   chol      303 non-null    int64  \n",
      " 5   fbs       303 non-null    int64  \n",
      " 6   restecg   303 non-null    int64  \n",
      " 7   thalach   303 non-null    int64  \n",
      " 8   exang     303 non-null    int64  \n",
      " 9   oldpeak   303 non-null    float64\n",
      " 10  slope     303 non-null    int64  \n",
      " 11  ca        303 non-null    int64  \n",
      " 12  thal      303 non-null    int64  \n",
      " 13  target    303 non-null    int64  \n",
      "dtypes: float64(1), int64(13)\n",
      "memory usage: 33.3 KB\n"
     ]
    }
   ],
   "source": [
    "df.info()"
   ]
  },
  {
   "cell_type": "markdown",
   "metadata": {
    "id": "Jvky6Ah740DQ",
    "papermill": {
     "duration": 0.041659,
     "end_time": "2020-11-23T11:32:18.873903",
     "exception": false,
     "start_time": "2020-11-23T11:32:18.832244",
     "status": "completed"
    },
    "tags": []
   },
   "source": [
    "Data Contain ;\n",
    "\n",
    "- age - age in years\n",
    "- sex - (1 = male; 0 = female)\n",
    "- cp - The chest pain experienced (Value 1: typical angina, Value 2: atypical angina, Value 3: non-anginal pain, Value 4: asymptomatic)\n",
    "- trestbps - resting blood pressure (in mm Hg on admission to the hospital)\n",
    "- chol - serum cholestoral in mg/dl\n",
    "- fbs - (fasting blood sugar > 120 mg/dl) (1 = true; 0 = false)\n",
    "- restecg - esting electrocardiographic measurement (0 = normal, 1 = having ST-T wave abnormality, 2 = showing probable or definite left ventricular hypertrophy by Estes' criteria)\n",
    "- thalach - maximum heart rate achieved\n",
    "exang - exercise induced angina (1 = yes; 0 = no)\n",
    "- oldpeak - ST depression induced by exercise relative to rest ('ST' relates to positions on the ECG plot.)\n",
    "- slope - the slope of the peak exercise ST segment (Value 1: upsloping, Value 2: flat, Value 3: downsloping)\n",
    "- ca - number of major vessels (0-3) colored by flourosopy\n",
    "- thal - 3 = normal; 6 = fixed defect; 7 = reversable defect\n",
    "- target - have disease or not (1=yes, 0=no)\n",
    "\n",
    "**As we can clearly see that -Target- is our dependant variable.**"
   ]
  },
  {
   "cell_type": "code",
   "execution_count": 4,
   "metadata": {
    "execution": {
     "iopub.execute_input": "2020-11-23T11:32:18.963893Z",
     "iopub.status.busy": "2020-11-23T11:32:18.963074Z",
     "iopub.status.idle": "2020-11-23T11:32:18.966439Z",
     "shell.execute_reply": "2020-11-23T11:32:18.967062Z"
    },
    "id": "NTmtOocA58t-",
    "outputId": "6fe59a0c-875b-417d-8de4-a51989ebbf52",
    "papermill": {
     "duration": 0.051385,
     "end_time": "2020-11-23T11:32:18.967178",
     "exception": false,
     "start_time": "2020-11-23T11:32:18.915793",
     "status": "completed"
    },
    "tags": []
   },
   "outputs": [
    {
     "data": {
      "text/plain": [
       "1    165\n",
       "0    138\n",
       "Name: target, dtype: int64"
      ]
     },
     "execution_count": 4,
     "metadata": {},
     "output_type": "execute_result"
    }
   ],
   "source": [
    "# Let's see the target variable data\n",
    "df.target.value_counts()"
   ]
  },
  {
   "cell_type": "code",
   "execution_count": 5,
   "metadata": {
    "execution": {
     "iopub.execute_input": "2020-11-23T11:32:19.062164Z",
     "iopub.status.busy": "2020-11-23T11:32:19.061539Z",
     "iopub.status.idle": "2020-11-23T11:32:19.220713Z",
     "shell.execute_reply": "2020-11-23T11:32:19.220144Z"
    },
    "id": "lnKGu8GF6HGH",
    "outputId": "8b824b85-ae3b-418a-8aac-d918ca2c4d91",
    "papermill": {
     "duration": 0.210169,
     "end_time": "2020-11-23T11:32:19.220817",
     "exception": false,
     "start_time": "2020-11-23T11:32:19.010648",
     "status": "completed"
    },
    "tags": []
   },
   "outputs": [
    {
     "data": {
      "image/png": "[encoded data removed]",
      "text/plain": [
       "<Figure size 432x288 with 1 Axes>"
      ]
     },
     "metadata": {
      "needs_background": "light"
     },
     "output_type": "display_data"
    }
   ],
   "source": [
    "sns.countplot(x = \"target\", data=df, palette=\"bwr\")\n",
    "plt.xlabel(\"Heart Disease (0 = No, 1= Yes)\")\n",
    "plt.show()"
   ]
  },
  {
   "cell_type": "code",
   "execution_count": 6,
   "metadata": {
    "execution": {
     "iopub.execute_input": "2020-11-23T11:32:19.314555Z",
     "iopub.status.busy": "2020-11-23T11:32:19.313831Z",
     "iopub.status.idle": "2020-11-23T11:32:19.334040Z",
     "shell.execute_reply": "2020-11-23T11:32:19.334634Z"
    },
    "id": "pZshRX_56fGb",
    "outputId": "d9b270de-93dc-4b29-d326-c5208baa66ac",
    "papermill": {
     "duration": 0.069593,
     "end_time": "2020-11-23T11:32:19.334785",
     "exception": false,
     "start_time": "2020-11-23T11:32:19.265192",
     "status": "completed"
    },
    "tags": []
   },
   "outputs": [
    {
     "name": "stdout",
     "output_type": "stream",
     "text": [
      "Percentage of Patient Haven't Infected : 45.54%\n",
      "Percentage of Patient has been Infected : 54.46%\n"
     ]
    }
   ],
   "source": [
    "# let's see the percentage of the taget value counts\n",
    "no_disease = len(df[df.target == 0])\n",
    "have_disease = len(df[df.target == 1])\n",
    "print(\"Percentage of Patient Haven't Infected : {:.2f}%\".format((no_disease / (len(df.target))*100)))\n",
    "print(\"Percentage of Patient has been Infected : {:.2f}%\".format((have_disease / (len(df.target))*100)))"
   ]
  },
  {
   "cell_type": "code",
   "execution_count": 7,
   "metadata": {
    "execution": {
     "iopub.execute_input": "2020-11-23T11:32:19.429908Z",
     "iopub.status.busy": "2020-11-23T11:32:19.428989Z",
     "iopub.status.idle": "2020-11-23T11:32:19.433088Z",
     "shell.execute_reply": "2020-11-23T11:32:19.432605Z"
    },
    "id": "GpK55X52AsxA",
    "outputId": "d3cdf223-1e57-423b-b841-e98bccdd036e",
    "papermill": {
     "duration": 0.054257,
     "end_time": "2020-11-23T11:32:19.433183",
     "exception": false,
     "start_time": "2020-11-23T11:32:19.378926",
     "status": "completed"
    },
    "tags": []
   },
   "outputs": [
    {
     "data": {
      "text/plain": [
       "58    19\n",
       "57    17\n",
       "54    16\n",
       "59    14\n",
       "52    13\n",
       "51    12\n",
       "62    11\n",
       "44    11\n",
       "60    11\n",
       "56    11\n",
       "Name: age, dtype: int64"
      ]
     },
     "execution_count": 7,
     "metadata": {},
     "output_type": "execute_result"
    }
   ],
   "source": [
    "df.age.value_counts()[:10]\n"
   ]
  },
  {
   "cell_type": "code",
   "execution_count": 8,
   "metadata": {
    "execution": {
     "iopub.execute_input": "2020-11-23T11:32:19.540469Z",
     "iopub.status.busy": "2020-11-23T11:32:19.539516Z",
     "iopub.status.idle": "2020-11-23T11:32:20.295360Z",
     "shell.execute_reply": "2020-11-23T11:32:20.296312Z"
    },
    "id": "jMpF84XH9tjd",
    "outputId": "72789571-ed42-48ac-f418-15847be9f964",
    "papermill": {
     "duration": 0.818964,
     "end_time": "2020-11-23T11:32:20.296474",
     "exception": false,
     "start_time": "2020-11-23T11:32:19.477510",
     "status": "completed"
    },
    "tags": []
   },
   "outputs": [
    {
     "data": {
      "image/png": "[encoded data removed]",
      "text/plain": [
       "<Figure size 1440x432 with 1 Axes>"
      ]
     },
     "metadata": {
      "needs_background": "light"
     },
     "output_type": "display_data"
    }
   ],
   "source": [
    "# Let's check the Age of data\n",
    "pd.crosstab(df.age,df.target).plot(kind=\"bar\",figsize=(20,6))\n",
    "plt.title('Heart Disease Frequency for Ages')\n",
    "plt.xlabel('Age')\n",
    "plt.ylabel('Frequency')\n",
    "plt.savefig('heartDiseaseAndAges.png')\n",
    "plt.show()"
   ]
  },
  {
   "cell_type": "code",
   "execution_count": 9,
   "metadata": {
    "execution": {
     "iopub.execute_input": "2020-11-23T11:32:20.401763Z",
     "iopub.status.busy": "2020-11-23T11:32:20.400862Z",
     "iopub.status.idle": "2020-11-23T11:32:20.570651Z",
     "shell.execute_reply": "2020-11-23T11:32:20.571149Z"
    },
    "id": "cYnLOYTPDJhK",
    "outputId": "2a4be80e-bf50-4e28-8ecb-2cf4b33e14f8",
    "papermill": {
     "duration": 0.225549,
     "end_time": "2020-11-23T11:32:20.571280",
     "exception": false,
     "start_time": "2020-11-23T11:32:20.345731",
     "status": "completed"
    },
    "tags": []
   },
   "outputs": [
    {
     "data": {
      "image/png": "[encoded data removed]",
      "text/plain": [
       "<Figure size 1080x432 with 1 Axes>"
      ]
     },
     "metadata": {
      "needs_background": "light"
     },
     "output_type": "display_data"
    }
   ],
   "source": [
    "pd.crosstab(df.sex,df.target).plot(kind=\"bar\",figsize=(15,6),color=['#1CA53B','#AA1111' ])\n",
    "plt.title('Heart Disease Frequency for Sex')\n",
    "plt.xlabel('Sex (0 = Female, 1 = Male)')\n",
    "plt.xticks(rotation=0)\n",
    "plt.legend([\"Haven't Disease\", \"Have Disease\"])\n",
    "plt.ylabel('Frequency')\n",
    "plt.show()"
   ]
  },
  {
   "cell_type": "code",
   "execution_count": 10,
   "metadata": {
    "execution": {
     "iopub.execute_input": "2020-11-23T11:32:20.755204Z",
     "iopub.status.busy": "2020-11-23T11:32:20.754174Z",
     "iopub.status.idle": "2020-11-23T11:32:20.929392Z",
     "shell.execute_reply": "2020-11-23T11:32:20.929889Z"
    },
    "id": "CHN8VxNBDdLk",
    "outputId": "df2a4056-aeaf-43d5-f67a-aab025c4ad65",
    "papermill": {
     "duration": 0.305284,
     "end_time": "2020-11-23T11:32:20.930068",
     "exception": false,
     "start_time": "2020-11-23T11:32:20.624784",
     "status": "completed"
    },
    "tags": []
   },
   "outputs": [
    {
     "data": {
      "image/png": "[encoded data removed]",
      "text/plain": [
       "<Figure size 432x288 with 1 Axes>"
      ]
     },
     "metadata": {
      "needs_background": "light"
     },
     "output_type": "display_data"
    }
   ],
   "source": [
    "plt.scatter(x=df.age[df.target==1], y=df.thalach[(df.target==1)], c=\"red\")\n",
    "plt.scatter(x=df.age[df.target==0], y=df.thalach[(df.target==0)])\n",
    "plt.legend([\"Disease\", \"Not Disease\"])\n",
    "plt.xlabel(\"Age\")\n",
    "plt.ylabel(\"Maximum Heart Rate\")\n",
    "plt.show()"
   ]
  },
  {
   "cell_type": "code",
   "execution_count": 11,
   "metadata": {
    "execution": {
     "iopub.execute_input": "2020-11-23T11:32:21.047799Z",
     "iopub.status.busy": "2020-11-23T11:32:21.046744Z",
     "iopub.status.idle": "2020-11-23T11:32:21.054260Z",
     "shell.execute_reply": "2020-11-23T11:32:21.053658Z"
    },
    "papermill": {
     "duration": 0.073835,
     "end_time": "2020-11-23T11:32:21.054363",
     "exception": false,
     "start_time": "2020-11-23T11:32:20.980528",
     "status": "completed"
    },
    "tags": []
   },
   "outputs": [
    {
     "name": "stdout",
     "output_type": "stream",
     "text": [
      "==============================\n",
      "age : [63 37 41 56 57 44 52 54 48 49 64 58 50 66 43 69 59 42 61 40 71 51 65 53\n",
      " 46 45 39 47 62 34 35 29 55 60 67 68 74 76 70 38 77]\n",
      "==============================\n",
      "sex : [1 0]\n",
      "==============================\n",
      "cp : [3 2 1 0]\n",
      "==============================\n",
      "trestbps : [145 130 120 140 172 150 110 135 160 105 125 142 155 104 138 128 108 134\n",
      " 122 115 118 100 124  94 112 102 152 101 132 148 178 129 180 136 126 106\n",
      " 156 170 146 117 200 165 174 192 144 123 154 114 164]\n",
      "==============================\n",
      "chol : [233 250 204 236 354 192 294 263 199 168 239 275 266 211 283 219 340 226\n",
      " 247 234 243 302 212 175 417 197 198 177 273 213 304 232 269 360 308 245\n",
      " 208 264 321 325 235 257 216 256 231 141 252 201 222 260 182 303 265 309\n",
      " 186 203 183 220 209 258 227 261 221 205 240 318 298 564 277 214 248 255\n",
      " 207 223 288 160 394 315 246 244 270 195 196 254 126 313 262 215 193 271\n",
      " 268 267 210 295 306 178 242 180 228 149 278 253 342 157 286 229 284 224\n",
      " 206 167 230 335 276 353 225 330 290 172 305 188 282 185 326 274 164 307\n",
      " 249 341 407 217 174 281 289 322 299 300 293 184 409 259 200 327 237 218\n",
      " 319 166 311 169 187 176 241 131]\n",
      "==============================\n",
      "fbs : [1 0]\n",
      "==============================\n",
      "restecg : [0 1 2]\n",
      "==============================\n",
      "thalach : [150 187 172 178 163 148 153 173 162 174 160 139 171 144 158 114 151 161\n",
      " 179 137 157 123 152 168 140 188 125 170 165 142 180 143 182 156 115 149\n",
      " 146 175 186 185 159 130 190 132 147 154 202 166 164 184 122 169 138 111\n",
      " 145 194 131 133 155 167 192 121  96 126 105 181 116 108 129 120 112 128\n",
      " 109 113  99 177 141 136  97 127 103 124  88 195 106  95 117  71 118 134\n",
      "  90]\n",
      "==============================\n",
      "exang : [0 1]\n",
      "==============================\n",
      "oldpeak : [2.3 3.5 1.4 0.8 0.6 0.4 1.3 0.  0.5 1.6 1.2 0.2 1.8 1.  2.6 1.5 3.  2.4\n",
      " 0.1 1.9 4.2 1.1 2.  0.7 0.3 0.9 3.6 3.1 3.2 2.5 2.2 2.8 3.4 6.2 4.  5.6\n",
      " 2.9 2.1 3.8 4.4]\n",
      "==============================\n",
      "slope : [0 2 1]\n",
      "==============================\n",
      "ca : [0 2 1 3 4]\n",
      "==============================\n",
      "thal : [1 2 3 0]\n",
      "==============================\n",
      "target : [1 0]\n"
     ]
    }
   ],
   "source": [
    "categorical_val = []\n",
    "continous_val = []\n",
    "for column in df.columns:\n",
    "    print('==============================')\n",
    "    print(f\"{column} : {df[column].unique()}\")\n",
    "    if len(df[column].unique()) <= 10:\n",
    "        categorical_val.append(column)\n",
    "    else:\n",
    "        continous_val.append(column)"
   ]
  },
  {
   "cell_type": "code",
   "execution_count": 12,
   "metadata": {
    "execution": {
     "iopub.execute_input": "2020-11-23T11:32:21.163540Z",
     "iopub.status.busy": "2020-11-23T11:32:21.162588Z",
     "iopub.status.idle": "2020-11-23T11:32:21.166957Z",
     "shell.execute_reply": "2020-11-23T11:32:21.166377Z"
    },
    "papermill": {
     "duration": 0.06093,
     "end_time": "2020-11-23T11:32:21.167071",
     "exception": false,
     "start_time": "2020-11-23T11:32:21.106141",
     "status": "completed"
    },
    "tags": []
   },
   "outputs": [
    {
     "data": {
      "text/plain": [
       "['sex', 'cp', 'fbs', 'restecg', 'exang', 'slope', 'ca', 'thal', 'target']"
      ]
     },
     "execution_count": 12,
     "metadata": {},
     "output_type": "execute_result"
    }
   ],
   "source": [
    "categorical_val"
   ]
  },
  {
   "cell_type": "code",
   "execution_count": 13,
   "metadata": {
    "execution": {
     "iopub.execute_input": "2020-11-23T11:32:21.281189Z",
     "iopub.status.busy": "2020-11-23T11:32:21.276342Z",
     "iopub.status.idle": "2020-11-23T11:32:24.470341Z",
     "shell.execute_reply": "2020-11-23T11:32:24.470791Z"
    },
    "papermill": {
     "duration": 3.255676,
     "end_time": "2020-11-23T11:32:24.470931",
     "exception": false,
     "start_time": "2020-11-23T11:32:21.215255",
     "status": "completed"
    },
    "tags": []
   },
   "outputs": [
    {
     "data": {
      "image/png": "[encoded data removed]",
      "text/plain": [
       "<Figure size 1080x1080 with 9 Axes>"
      ]
     },
     "metadata": {
      "needs_background": "light"
     },
     "output_type": "display_data"
    }
   ],
   "source": [
    "plt.figure(figsize=(15, 15))\n",
    "\n",
    "for i, column in enumerate(categorical_val, 1):\n",
    "    plt.subplot(3, 3, i)\n",
    "    df[df[\"target\"] == 0][column].hist(bins=35, color='blue', label='Have Heart Disease = NO', alpha=0.6)\n",
    "    df[df[\"target\"] == 1][column].hist(bins=35, color='red', label='Have Heart Disease = YES', alpha=0.6)\n",
    "    plt.legend()\n",
    "    plt.xlabel(column)"
   ]
  },
  {
   "cell_type": "markdown",
   "metadata": {
    "papermill": {
     "duration": 0.075969,
     "end_time": "2020-11-23T11:32:24.624723",
     "exception": false,
     "start_time": "2020-11-23T11:32:24.548754",
     "status": "completed"
    },
    "tags": []
   },
   "source": [
    "- cp {Chest Pain} : People with cp equl to 1, 2, 3 are more likely to have heart disease than people with cp equal to 0.\n",
    "- restecg {resting electrocardiographic results} : People with value 1 (signals non-normal heart beat, can range from mild symptoms to severe problems) are more likely to have heart disease.\n",
    "- exang {exercise induced angina} : People with value 0 (No ==> exercice induced angina) have heart disease more than people with value 1 (Yes ==> exercice induced angina)\n",
    "- slope {the slope of the peak exercise ST segment} : People with slope value equal to 2 (Downslopins: signs of unhealthy heart) are more likely to have heart disease than people with slope value equal to 0 (Upsloping: better heart rate with excercise) or 1 (Flatsloping: minimal change (typical healthy heart)).\n",
    "- ca {number of major vessels (0-3) colored by flourosopy} : the more blood movement the better so people with ca equal to 0 are more likely to have heart disease.\n",
    "- thal {thalium stress result} : People with thal value equal to 2 (fixed defect: used to be defect but ok now) are more likely to have heart disease."
   ]
  },
  {
   "cell_type": "code",
   "execution_count": 14,
   "metadata": {
    "execution": {
     "iopub.execute_input": "2020-11-23T11:32:24.805136Z",
     "iopub.status.busy": "2020-11-23T11:32:24.798188Z",
     "iopub.status.idle": "2020-11-23T11:32:26.466119Z",
     "shell.execute_reply": "2020-11-23T11:32:26.465589Z"
    },
    "papermill": {
     "duration": 1.766474,
     "end_time": "2020-11-23T11:32:26.466226",
     "exception": false,
     "start_time": "2020-11-23T11:32:24.699752",
     "status": "completed"
    },
    "tags": []
   },
   "outputs": [
    {
     "data": {
      "image/png": "[encoded data removed]",
      "text/plain": [
       "<Figure size 1080x1080 with 5 Axes>"
      ]
     },
     "metadata": {
      "needs_background": "light"
     },
     "output_type": "display_data"
    }
   ],
   "source": [
    "plt.figure(figsize=(15, 15))\n",
    "\n",
    "for i, column in enumerate(continous_val, 1):\n",
    "    plt.subplot(3, 2, i)\n",
    "    df[df[\"target\"] == 0][column].hist(bins=35, color='blue', label='Have Heart Disease = NO', alpha=0.6)\n",
    "    df[df[\"target\"] == 1][column].hist(bins=35, color='red', label='Have Heart Disease = YES', alpha=0.6)\n",
    "    plt.legend()\n",
    "    plt.xlabel(column)"
   ]
  },
  {
   "cell_type": "markdown",
   "metadata": {
    "papermill": {
     "duration": 0.054539,
     "end_time": "2020-11-23T11:32:26.577080",
     "exception": false,
     "start_time": "2020-11-23T11:32:26.522541",
     "status": "completed"
    },
    "tags": []
   },
   "source": [
    "- trestbps : resting blood pressure (in mm Hg on admission to the hospital) anything above 130-140 is typically cause for concern\n",
    "- chol {serum cholestoral in mg/dl} : above 200 is cause for concern.\n",
    "- thalach {maximum heart rate achieved} : People how acheived a maximum more than 140 are more likely to have heart disease.\n",
    "- oldpeak ST depression induced by exercise relative to rest looks at stress of heart during excercise unhealthy heart will stress more"
   ]
  },
  {
   "cell_type": "markdown",
   "metadata": {
    "id": "Y3C_6nAtDp2T",
    "papermill": {
     "duration": 0.051142,
     "end_time": "2020-11-23T11:32:26.682210",
     "exception": false,
     "start_time": "2020-11-23T11:32:26.631068",
     "status": "completed"
    },
    "tags": []
   },
   "source": [
    "## Statistics & Null Value"
   ]
  },
  {
   "cell_type": "code",
   "execution_count": 15,
   "metadata": {
    "execution": {
     "iopub.execute_input": "2020-11-23T11:32:26.796640Z",
     "iopub.status.busy": "2020-11-23T11:32:26.795815Z",
     "iopub.status.idle": "2020-11-23T11:32:26.840622Z",
     "shell.execute_reply": "2020-11-23T11:32:26.841158Z"
    },
    "id": "3kxE5sF_Do4K",
    "outputId": "1a0bfa03-cbb5-4fff-8245-70041bc155a2",
    "papermill": {
     "duration": 0.10527,
     "end_time": "2020-11-23T11:32:26.841278",
     "exception": false,
     "start_time": "2020-11-23T11:32:26.736008",
     "status": "completed"
    },
    "tags": []
   },
   "outputs": [
    {
     "data": {
      "text/html": [
       "<div>\n",
       "<style scoped>\n",
       "    .dataframe tbody tr th:only-of-type {\n",
       "        vertical-align: middle;\n",
       "    }\n",
       "\n",
       "    .dataframe tbody tr th {\n",
       "        vertical-align: top;\n",
       "    }\n",
       "\n",
       "    .dataframe thead th {\n",
       "        text-align: right;\n",
       "    }\n",
       "</style>\n",
       "<table border=\"1\" class=\"dataframe\">\n",
       "  <thead>\n",
       "    <tr style=\"text-align: right;\">\n",
       "      <th></th>\n",
       "      <th>age</th>\n",
       "      <th>sex</th>\n",
       "      <th>cp</th>\n",
       "      <th>trestbps</th>\n",
       "      <th>chol</th>\n",
       "      <th>fbs</th>\n",
       "      <th>restecg</th>\n",
       "      <th>thalach</th>\n",
       "      <th>exang</th>\n",
       "      <th>oldpeak</th>\n",
       "      <th>slope</th>\n",
       "      <th>ca</th>\n",
       "      <th>thal</th>\n",
       "      <th>target</th>\n",
       "    </tr>\n",
       "  </thead>\n",
       "  <tbody>\n",
       "    <tr>\n",
       "      <th>count</th>\n",
       "      <td>303.000000</td>\n",
       "      <td>303.000000</td>\n",
       "      <td>303.000000</td>\n",
       "      <td>303.000000</td>\n",
       "      <td>303.000000</td>\n",
       "      <td>303.000000</td>\n",
       "      <td>303.000000</td>\n",
       "      <td>303.000000</td>\n",
       "      <td>303.000000</td>\n",
       "      <td>303.000000</td>\n",
       "      <td>303.000000</td>\n",
       "      <td>303.000000</td>\n",
       "      <td>303.000000</td>\n",
       "      <td>303.000000</td>\n",
       "    </tr>\n",
       "    <tr>\n",
       "      <th>mean</th>\n",
       "      <td>54.366337</td>\n",
       "      <td>0.683168</td>\n",
       "      <td>0.966997</td>\n",
       "      <td>131.623762</td>\n",
       "      <td>246.264026</td>\n",
       "      <td>0.148515</td>\n",
       "      <td>0.528053</td>\n",
       "      <td>149.646865</td>\n",
       "      <td>0.326733</td>\n",
       "      <td>1.039604</td>\n",
       "      <td>1.399340</td>\n",
       "      <td>0.729373</td>\n",
       "      <td>2.313531</td>\n",
       "      <td>0.544554</td>\n",
       "    </tr>\n",
       "    <tr>\n",
       "      <th>std</th>\n",
       "      <td>9.082101</td>\n",
       "      <td>0.466011</td>\n",
       "      <td>1.032052</td>\n",
       "      <td>17.538143</td>\n",
       "      <td>51.830751</td>\n",
       "      <td>0.356198</td>\n",
       "      <td>0.525860</td>\n",
       "      <td>22.905161</td>\n",
       "      <td>0.469794</td>\n",
       "      <td>1.161075</td>\n",
       "      <td>0.616226</td>\n",
       "      <td>1.022606</td>\n",
       "      <td>0.612277</td>\n",
       "      <td>0.498835</td>\n",
       "    </tr>\n",
       "    <tr>\n",
       "      <th>min</th>\n",
       "      <td>29.000000</td>\n",
       "      <td>0.000000</td>\n",
       "      <td>0.000000</td>\n",
       "      <td>94.000000</td>\n",
       "      <td>126.000000</td>\n",
       "      <td>0.000000</td>\n",
       "      <td>0.000000</td>\n",
       "      <td>71.000000</td>\n",
       "      <td>0.000000</td>\n",
       "      <td>0.000000</td>\n",
       "      <td>0.000000</td>\n",
       "      <td>0.000000</td>\n",
       "      <td>0.000000</td>\n",
       "      <td>0.000000</td>\n",
       "    </tr>\n",
       "    <tr>\n",
       "      <th>25%</th>\n",
       "      <td>47.500000</td>\n",
       "      <td>0.000000</td>\n",
       "      <td>0.000000</td>\n",
       "      <td>120.000000</td>\n",
       "      <td>211.000000</td>\n",
       "      <td>0.000000</td>\n",
       "      <td>0.000000</td>\n",
       "      <td>133.500000</td>\n",
       "      <td>0.000000</td>\n",
       "      <td>0.000000</td>\n",
       "      <td>1.000000</td>\n",
       "      <td>0.000000</td>\n",
       "      <td>2.000000</td>\n",
       "      <td>0.000000</td>\n",
       "    </tr>\n",
       "    <tr>\n",
       "      <th>50%</th>\n",
       "      <td>55.000000</td>\n",
       "      <td>1.000000</td>\n",
       "      <td>1.000000</td>\n",
       "      <td>130.000000</td>\n",
       "      <td>240.000000</td>\n",
       "      <td>0.000000</td>\n",
       "      <td>1.000000</td>\n",
       "      <td>153.000000</td>\n",
       "      <td>0.000000</td>\n",
       "      <td>0.800000</td>\n",
       "      <td>1.000000</td>\n",
       "      <td>0.000000</td>\n",
       "      <td>2.000000</td>\n",
       "      <td>1.000000</td>\n",
       "    </tr>\n",
       "    <tr>\n",
       "      <th>75%</th>\n",
       "      <td>61.000000</td>\n",
       "      <td>1.000000</td>\n",
       "      <td>2.000000</td>\n",
       "      <td>140.000000</td>\n",
       "      <td>274.500000</td>\n",
       "      <td>0.000000</td>\n",
       "      <td>1.000000</td>\n",
       "      <td>166.000000</td>\n",
       "      <td>1.000000</td>\n",
       "      <td>1.600000</td>\n",
       "      <td>2.000000</td>\n",
       "      <td>1.000000</td>\n",
       "      <td>3.000000</td>\n",
       "      <td>1.000000</td>\n",
       "    </tr>\n",
       "    <tr>\n",
       "      <th>max</th>\n",
       "      <td>77.000000</td>\n",
       "      <td>1.000000</td>\n",
       "      <td>3.000000</td>\n",
       "      <td>200.000000</td>\n",
       "      <td>564.000000</td>\n",
       "      <td>1.000000</td>\n",
       "      <td>2.000000</td>\n",
       "      <td>202.000000</td>\n",
       "      <td>1.000000</td>\n",
       "      <td>6.200000</td>\n",
       "      <td>2.000000</td>\n",
       "      <td>4.000000</td>\n",
       "      <td>3.000000</td>\n",
       "      <td>1.000000</td>\n",
       "    </tr>\n",
       "  </tbody>\n",
       "</table>\n",
       "</div>"
      ],
      "text/plain": [
       "              age         sex          cp    trestbps        chol         fbs  \\\n",
       "count  303.000000  303.000000  303.000000  303.000000  303.000000  303.000000   \n",
       "mean    54.366337    0.683168    0.966997  131.623762  246.264026    0.148515   \n",
       "std      9.082101    0.466011    1.032052   17.538143   51.830751    0.356198   \n",
       "min     29.000000    0.000000    0.000000   94.000000  126.000000    0.000000   \n",
       "25%     47.500000    0.000000    0.000000  120.000000  211.000000    0.000000   \n",
       "50%     55.000000    1.000000    1.000000  130.000000  240.000000    0.000000   \n",
       "75%     61.000000    1.000000    2.000000  140.000000  274.500000    0.000000   \n",
       "max     77.000000    1.000000    3.000000  200.000000  564.000000    1.000000   \n",
       "\n",
       "          restecg     thalach       exang     oldpeak       slope          ca  \\\n",
       "count  303.000000  303.000000  303.000000  303.000000  303.000000  303.000000   \n",
       "mean     0.528053  149.646865    0.326733    1.039604    1.399340    0.729373   \n",
       "std      0.525860   22.905161    0.469794    1.161075    0.616226    1.022606   \n",
       "min      0.000000   71.000000    0.000000    0.000000    0.000000    0.000000   \n",
       "25%      0.000000  133.500000    0.000000    0.000000    1.000000    0.000000   \n",
       "50%      1.000000  153.000000    0.000000    0.800000    1.000000    0.000000   \n",
       "75%      1.000000  166.000000    1.000000    1.600000    2.000000    1.000000   \n",
       "max      2.000000  202.000000    1.000000    6.200000    2.000000    4.000000   \n",
       "\n",
       "             thal      target  \n",
       "count  303.000000  303.000000  \n",
       "mean     2.313531    0.544554  \n",
       "std      0.612277    0.498835  \n",
       "min      0.000000    0.000000  \n",
       "25%      2.000000    0.000000  \n",
       "50%      2.000000    1.000000  \n",
       "75%      3.000000    1.000000  \n",
       "max      3.000000    1.000000  "
      ]
     },
     "execution_count": 15,
     "metadata": {},
     "output_type": "execute_result"
    }
   ],
   "source": [
    "df.describe()"
   ]
  },
  {
   "cell_type": "code",
   "execution_count": 16,
   "metadata": {
    "execution": {
     "iopub.execute_input": "2020-11-23T11:32:26.954565Z",
     "iopub.status.busy": "2020-11-23T11:32:26.953313Z",
     "iopub.status.idle": "2020-11-23T11:32:27.821859Z",
     "shell.execute_reply": "2020-11-23T11:32:27.822394Z"
    },
    "id": "bE6vMxMqD9jP",
    "outputId": "65bd9432-7e3d-4412-e3bd-3cb0ae2bb150",
    "papermill": {
     "duration": 0.928754,
     "end_time": "2020-11-23T11:32:27.822530",
     "exception": false,
     "start_time": "2020-11-23T11:32:26.893776",
     "status": "completed"
    },
    "tags": []
   },
   "outputs": [
    {
     "data": {
      "text/plain": [
       "<matplotlib.axes._subplots.AxesSubplot at 0x7f06f04f1290>"
      ]
     },
     "execution_count": 16,
     "metadata": {},
     "output_type": "execute_result"
    },
    {
     "data": {
      "image/png": "[encoded data removed]",
      "text/plain": [
       "<Figure size 1152x648 with 2 Axes>"
      ]
     },
     "metadata": {
      "needs_background": "light"
     },
     "output_type": "display_data"
    }
   ],
   "source": [
    "# let's check in heatmap\n",
    "corrmat = df.corr()\n",
    "top_corr_features = corrmat.index\n",
    "plt.figure(figsize=(16,9))\n",
    "sns.heatmap(df[top_corr_features].corr(), annot=True, cmap=\"RdYlGn\")"
   ]
  },
  {
   "cell_type": "code",
   "execution_count": 17,
   "metadata": {
    "execution": {
     "iopub.execute_input": "2020-11-23T11:32:27.941182Z",
     "iopub.status.busy": "2020-11-23T11:32:27.940257Z",
     "iopub.status.idle": "2020-11-23T11:32:27.943908Z",
     "shell.execute_reply": "2020-11-23T11:32:27.944383Z"
    },
    "id": "c3OXmG7TCAYt",
    "outputId": "00754ecd-aefd-4fd6-c175-328202c92f29",
    "papermill": {
     "duration": 0.06647,
     "end_time": "2020-11-23T11:32:27.944506",
     "exception": false,
     "start_time": "2020-11-23T11:32:27.878036",
     "status": "completed"
    },
    "tags": []
   },
   "outputs": [
    {
     "data": {
      "text/plain": [
       "0"
      ]
     },
     "execution_count": 17,
     "metadata": {},
     "output_type": "execute_result"
    }
   ],
   "source": [
    "# Checking null value\n",
    "df.isnull().sum().sum()"
   ]
  },
  {
   "cell_type": "code",
   "execution_count": 18,
   "metadata": {
    "execution": {
     "iopub.execute_input": "2020-11-23T11:32:28.065049Z",
     "iopub.status.busy": "2020-11-23T11:32:28.064277Z",
     "iopub.status.idle": "2020-11-23T11:32:28.067466Z",
     "shell.execute_reply": "2020-11-23T11:32:28.068028Z"
    },
    "id": "jiWBAV28FXBy",
    "outputId": "5a5808ea-a380-42e7-ca06-1bf3fc072bf0",
    "papermill": {
     "duration": 0.066921,
     "end_time": "2020-11-23T11:32:28.068151",
     "exception": false,
     "start_time": "2020-11-23T11:32:28.001230",
     "status": "completed"
    },
    "tags": []
   },
   "outputs": [
    {
     "data": {
      "text/plain": [
       "age         0\n",
       "sex         0\n",
       "cp          0\n",
       "trestbps    0\n",
       "chol        0\n",
       "fbs         0\n",
       "restecg     0\n",
       "thalach     0\n",
       "exang       0\n",
       "oldpeak     0\n",
       "slope       0\n",
       "ca          0\n",
       "thal        0\n",
       "target      0\n",
       "dtype: int64"
      ]
     },
     "execution_count": 18,
     "metadata": {},
     "output_type": "execute_result"
    }
   ],
   "source": [
    "df.isnull().sum()"
   ]
  },
  {
   "cell_type": "code",
   "execution_count": 19,
   "metadata": {
    "execution": {
     "iopub.execute_input": "2020-11-23T11:32:28.192721Z",
     "iopub.status.busy": "2020-11-23T11:32:28.192048Z",
     "iopub.status.idle": "2020-11-23T11:32:28.195860Z",
     "shell.execute_reply": "2020-11-23T11:32:28.196503Z"
    },
    "id": "V-E1FZvm4enw",
    "outputId": "23a4610e-b71b-48d9-a142-4087d80763d5",
    "papermill": {
     "duration": 0.071748,
     "end_time": "2020-11-23T11:32:28.196653",
     "exception": false,
     "start_time": "2020-11-23T11:32:28.124905",
     "status": "completed"
    },
    "tags": []
   },
   "outputs": [
    {
     "name": "stdout",
     "output_type": "stream",
     "text": [
      "<class 'pandas.core.frame.DataFrame'>\n",
      "RangeIndex: 303 entries, 0 to 302\n",
      "Data columns (total 14 columns):\n",
      " #   Column    Non-Null Count  Dtype  \n",
      "---  ------    --------------  -----  \n",
      " 0   age       303 non-null    int64  \n",
      " 1   sex       303 non-null    int64  \n",
      " 2   cp        303 non-null    int64  \n",
      " 3   trestbps  303 non-null    int64  \n",
      " 4   chol      303 non-null    int64  \n",
      " 5   fbs       303 non-null    int64  \n",
      " 6   restecg   303 non-null    int64  \n",
      " 7   thalach   303 non-null    int64  \n",
      " 8   exang     303 non-null    int64  \n",
      " 9   oldpeak   303 non-null    float64\n",
      " 10  slope     303 non-null    int64  \n",
      " 11  ca        303 non-null    int64  \n",
      " 12  thal      303 non-null    int64  \n",
      " 13  target    303 non-null    int64  \n",
      "dtypes: float64(1), int64(13)\n",
      "memory usage: 33.3 KB\n"
     ]
    }
   ],
   "source": [
    "df.info()"
   ]
  },
  {
   "cell_type": "markdown",
   "metadata": {
    "id": "_X7BeAbWLIH9",
    "papermill": {
     "duration": 0.057432,
     "end_time": "2020-11-23T11:32:28.312004",
     "exception": false,
     "start_time": "2020-11-23T11:32:28.254572",
     "status": "completed"
    },
    "tags": []
   },
   "source": [
    "## Creating Dummy Variable for categorical variable"
   ]
  },
  {
   "cell_type": "code",
   "execution_count": 20,
   "metadata": {
    "execution": {
     "iopub.execute_input": "2020-11-23T11:32:28.442307Z",
     "iopub.status.busy": "2020-11-23T11:32:28.441415Z",
     "iopub.status.idle": "2020-11-23T11:32:28.445561Z",
     "shell.execute_reply": "2020-11-23T11:32:28.445093Z"
    },
    "id": "5iYUjylb5r-V",
    "outputId": "f93fe8c1-6ed0-41ad-de67-d68d9b78d18a",
    "papermill": {
     "duration": 0.075079,
     "end_time": "2020-11-23T11:32:28.445656",
     "exception": false,
     "start_time": "2020-11-23T11:32:28.370577",
     "status": "completed"
    },
    "tags": []
   },
   "outputs": [
    {
     "data": {
      "text/html": [
       "<div>\n",
       "<style scoped>\n",
       "    .dataframe tbody tr th:only-of-type {\n",
       "        vertical-align: middle;\n",
       "    }\n",
       "\n",
       "    .dataframe tbody tr th {\n",
       "        vertical-align: top;\n",
       "    }\n",
       "\n",
       "    .dataframe thead th {\n",
       "        text-align: right;\n",
       "    }\n",
       "</style>\n",
       "<table border=\"1\" class=\"dataframe\">\n",
       "  <thead>\n",
       "    <tr style=\"text-align: right;\">\n",
       "      <th></th>\n",
       "      <th>age</th>\n",
       "      <th>sex</th>\n",
       "      <th>cp</th>\n",
       "      <th>trestbps</th>\n",
       "      <th>chol</th>\n",
       "      <th>fbs</th>\n",
       "      <th>restecg</th>\n",
       "      <th>thalach</th>\n",
       "      <th>exang</th>\n",
       "      <th>oldpeak</th>\n",
       "      <th>slope</th>\n",
       "      <th>ca</th>\n",
       "      <th>thal</th>\n",
       "      <th>target</th>\n",
       "    </tr>\n",
       "  </thead>\n",
       "  <tbody>\n",
       "    <tr>\n",
       "      <th>0</th>\n",
       "      <td>63</td>\n",
       "      <td>1</td>\n",
       "      <td>3</td>\n",
       "      <td>145</td>\n",
       "      <td>233</td>\n",
       "      <td>1</td>\n",
       "      <td>0</td>\n",
       "      <td>150</td>\n",
       "      <td>0</td>\n",
       "      <td>2.3</td>\n",
       "      <td>0</td>\n",
       "      <td>0</td>\n",
       "      <td>1</td>\n",
       "      <td>1</td>\n",
       "    </tr>\n",
       "    <tr>\n",
       "      <th>1</th>\n",
       "      <td>37</td>\n",
       "      <td>1</td>\n",
       "      <td>2</td>\n",
       "      <td>130</td>\n",
       "      <td>250</td>\n",
       "      <td>0</td>\n",
       "      <td>1</td>\n",
       "      <td>187</td>\n",
       "      <td>0</td>\n",
       "      <td>3.5</td>\n",
       "      <td>0</td>\n",
       "      <td>0</td>\n",
       "      <td>2</td>\n",
       "      <td>1</td>\n",
       "    </tr>\n",
       "    <tr>\n",
       "      <th>2</th>\n",
       "      <td>41</td>\n",
       "      <td>0</td>\n",
       "      <td>1</td>\n",
       "      <td>130</td>\n",
       "      <td>204</td>\n",
       "      <td>0</td>\n",
       "      <td>0</td>\n",
       "      <td>172</td>\n",
       "      <td>0</td>\n",
       "      <td>1.4</td>\n",
       "      <td>2</td>\n",
       "      <td>0</td>\n",
       "      <td>2</td>\n",
       "      <td>1</td>\n",
       "    </tr>\n",
       "    <tr>\n",
       "      <th>3</th>\n",
       "      <td>56</td>\n",
       "      <td>1</td>\n",
       "      <td>1</td>\n",
       "      <td>120</td>\n",
       "      <td>236</td>\n",
       "      <td>0</td>\n",
       "      <td>1</td>\n",
       "      <td>178</td>\n",
       "      <td>0</td>\n",
       "      <td>0.8</td>\n",
       "      <td>2</td>\n",
       "      <td>0</td>\n",
       "      <td>2</td>\n",
       "      <td>1</td>\n",
       "    </tr>\n",
       "    <tr>\n",
       "      <th>4</th>\n",
       "      <td>57</td>\n",
       "      <td>0</td>\n",
       "      <td>0</td>\n",
       "      <td>120</td>\n",
       "      <td>354</td>\n",
       "      <td>0</td>\n",
       "      <td>1</td>\n",
       "      <td>163</td>\n",
       "      <td>1</td>\n",
       "      <td>0.6</td>\n",
       "      <td>2</td>\n",
       "      <td>0</td>\n",
       "      <td>2</td>\n",
       "      <td>1</td>\n",
       "    </tr>\n",
       "  </tbody>\n",
       "</table>\n",
       "</div>"
      ],
      "text/plain": [
       "   age  sex  cp  trestbps  chol  fbs  restecg  thalach  exang  oldpeak  slope  \\\n",
       "0   63    1   3       145   233    1        0      150      0      2.3      0   \n",
       "1   37    1   2       130   250    0        1      187      0      3.5      0   \n",
       "2   41    0   1       130   204    0        0      172      0      1.4      2   \n",
       "3   56    1   1       120   236    0        1      178      0      0.8      2   \n",
       "4   57    0   0       120   354    0        1      163      1      0.6      2   \n",
       "\n",
       "   ca  thal  target  \n",
       "0   0     1       1  \n",
       "1   0     2       1  \n",
       "2   0     2       1  \n",
       "3   0     2       1  \n",
       "4   0     2       1  "
      ]
     },
     "execution_count": 20,
     "metadata": {},
     "output_type": "execute_result"
    }
   ],
   "source": [
    "df.head()"
   ]
  },
  {
   "cell_type": "code",
   "execution_count": 21,
   "metadata": {
    "execution": {
     "iopub.execute_input": "2020-11-23T11:32:28.586523Z",
     "iopub.status.busy": "2020-11-23T11:32:28.585641Z",
     "iopub.status.idle": "2020-11-23T11:32:28.589447Z",
     "shell.execute_reply": "2020-11-23T11:32:28.590032Z"
    },
    "id": "kElITQ9WLRKp",
    "outputId": "fede8a07-a9aa-48dd-a6e6-2bc3183fba83",
    "papermill": {
     "duration": 0.084562,
     "end_time": "2020-11-23T11:32:28.590190",
     "exception": false,
     "start_time": "2020-11-23T11:32:28.505628",
     "status": "completed"
    },
    "tags": []
   },
   "outputs": [
    {
     "data": {
      "text/html": [
       "<div>\n",
       "<style scoped>\n",
       "    .dataframe tbody tr th:only-of-type {\n",
       "        vertical-align: middle;\n",
       "    }\n",
       "\n",
       "    .dataframe tbody tr th {\n",
       "        vertical-align: top;\n",
       "    }\n",
       "\n",
       "    .dataframe thead th {\n",
       "        text-align: right;\n",
       "    }\n",
       "</style>\n",
       "<table border=\"1\" class=\"dataframe\">\n",
       "  <thead>\n",
       "    <tr style=\"text-align: right;\">\n",
       "      <th></th>\n",
       "      <th>age</th>\n",
       "      <th>sex</th>\n",
       "      <th>cp</th>\n",
       "      <th>trestbps</th>\n",
       "      <th>chol</th>\n",
       "      <th>fbs</th>\n",
       "      <th>restecg</th>\n",
       "      <th>thalach</th>\n",
       "      <th>exang</th>\n",
       "      <th>oldpeak</th>\n",
       "      <th>slope</th>\n",
       "      <th>ca</th>\n",
       "      <th>thal</th>\n",
       "      <th>target</th>\n",
       "    </tr>\n",
       "  </thead>\n",
       "  <tbody>\n",
       "    <tr>\n",
       "      <th>0</th>\n",
       "      <td>63</td>\n",
       "      <td>1</td>\n",
       "      <td>3</td>\n",
       "      <td>145</td>\n",
       "      <td>233</td>\n",
       "      <td>1</td>\n",
       "      <td>0</td>\n",
       "      <td>150</td>\n",
       "      <td>0</td>\n",
       "      <td>2.3</td>\n",
       "      <td>0</td>\n",
       "      <td>0</td>\n",
       "      <td>1</td>\n",
       "      <td>1</td>\n",
       "    </tr>\n",
       "    <tr>\n",
       "      <th>1</th>\n",
       "      <td>37</td>\n",
       "      <td>1</td>\n",
       "      <td>2</td>\n",
       "      <td>130</td>\n",
       "      <td>250</td>\n",
       "      <td>0</td>\n",
       "      <td>1</td>\n",
       "      <td>187</td>\n",
       "      <td>0</td>\n",
       "      <td>3.5</td>\n",
       "      <td>0</td>\n",
       "      <td>0</td>\n",
       "      <td>2</td>\n",
       "      <td>1</td>\n",
       "    </tr>\n",
       "    <tr>\n",
       "      <th>2</th>\n",
       "      <td>41</td>\n",
       "      <td>0</td>\n",
       "      <td>1</td>\n",
       "      <td>130</td>\n",
       "      <td>204</td>\n",
       "      <td>0</td>\n",
       "      <td>0</td>\n",
       "      <td>172</td>\n",
       "      <td>0</td>\n",
       "      <td>1.4</td>\n",
       "      <td>2</td>\n",
       "      <td>0</td>\n",
       "      <td>2</td>\n",
       "      <td>1</td>\n",
       "    </tr>\n",
       "    <tr>\n",
       "      <th>3</th>\n",
       "      <td>56</td>\n",
       "      <td>1</td>\n",
       "      <td>1</td>\n",
       "      <td>120</td>\n",
       "      <td>236</td>\n",
       "      <td>0</td>\n",
       "      <td>1</td>\n",
       "      <td>178</td>\n",
       "      <td>0</td>\n",
       "      <td>0.8</td>\n",
       "      <td>2</td>\n",
       "      <td>0</td>\n",
       "      <td>2</td>\n",
       "      <td>1</td>\n",
       "    </tr>\n",
       "    <tr>\n",
       "      <th>4</th>\n",
       "      <td>57</td>\n",
       "      <td>0</td>\n",
       "      <td>0</td>\n",
       "      <td>120</td>\n",
       "      <td>354</td>\n",
       "      <td>0</td>\n",
       "      <td>1</td>\n",
       "      <td>163</td>\n",
       "      <td>1</td>\n",
       "      <td>0.6</td>\n",
       "      <td>2</td>\n",
       "      <td>0</td>\n",
       "      <td>2</td>\n",
       "      <td>1</td>\n",
       "    </tr>\n",
       "  </tbody>\n",
       "</table>\n",
       "</div>"
      ],
      "text/plain": [
       "   age  sex  cp  trestbps  chol  fbs  restecg  thalach  exang  oldpeak  slope  \\\n",
       "0   63    1   3       145   233    1        0      150      0      2.3      0   \n",
       "1   37    1   2       130   250    0        1      187      0      3.5      0   \n",
       "2   41    0   1       130   204    0        0      172      0      1.4      2   \n",
       "3   56    1   1       120   236    0        1      178      0      0.8      2   \n",
       "4   57    0   0       120   354    0        1      163      1      0.6      2   \n",
       "\n",
       "   ca  thal  target  \n",
       "0   0     1       1  \n",
       "1   0     2       1  \n",
       "2   0     2       1  \n",
       "3   0     2       1  \n",
       "4   0     2       1  "
      ]
     },
     "execution_count": 21,
     "metadata": {},
     "output_type": "execute_result"
    }
   ],
   "source": [
    "# Before creating any other features, firstly copy original dataset into other dataframe\n",
    "df1 = df.copy()\n",
    "df1.head()"
   ]
  },
  {
   "cell_type": "code",
   "execution_count": 22,
   "metadata": {
    "execution": {
     "iopub.execute_input": "2020-11-23T11:32:28.724599Z",
     "iopub.status.busy": "2020-11-23T11:32:28.723718Z",
     "iopub.status.idle": "2020-11-23T11:32:28.746586Z",
     "shell.execute_reply": "2020-11-23T11:32:28.745921Z"
    },
    "id": "uSKxSzvYMX3X",
    "outputId": "a5a13eca-d730-4933-c816-56aedf9fc0d6",
    "papermill": {
     "duration": 0.095937,
     "end_time": "2020-11-23T11:32:28.746700",
     "exception": false,
     "start_time": "2020-11-23T11:32:28.650763",
     "status": "completed"
    },
    "tags": []
   },
   "outputs": [
    {
     "data": {
      "text/html": [
       "<div>\n",
       "<style scoped>\n",
       "    .dataframe tbody tr th:only-of-type {\n",
       "        vertical-align: middle;\n",
       "    }\n",
       "\n",
       "    .dataframe tbody tr th {\n",
       "        vertical-align: top;\n",
       "    }\n",
       "\n",
       "    .dataframe thead th {\n",
       "        text-align: right;\n",
       "    }\n",
       "</style>\n",
       "<table border=\"1\" class=\"dataframe\">\n",
       "  <thead>\n",
       "    <tr style=\"text-align: right;\">\n",
       "      <th></th>\n",
       "      <th>age</th>\n",
       "      <th>trestbps</th>\n",
       "      <th>chol</th>\n",
       "      <th>thalach</th>\n",
       "      <th>oldpeak</th>\n",
       "      <th>target</th>\n",
       "      <th>sex_1</th>\n",
       "      <th>cp_1</th>\n",
       "      <th>cp_2</th>\n",
       "      <th>cp_3</th>\n",
       "      <th>...</th>\n",
       "      <th>exang_1</th>\n",
       "      <th>slope_1</th>\n",
       "      <th>slope_2</th>\n",
       "      <th>ca_1</th>\n",
       "      <th>ca_2</th>\n",
       "      <th>ca_3</th>\n",
       "      <th>ca_4</th>\n",
       "      <th>thal_1</th>\n",
       "      <th>thal_2</th>\n",
       "      <th>thal_3</th>\n",
       "    </tr>\n",
       "  </thead>\n",
       "  <tbody>\n",
       "    <tr>\n",
       "      <th>0</th>\n",
       "      <td>63</td>\n",
       "      <td>145</td>\n",
       "      <td>233</td>\n",
       "      <td>150</td>\n",
       "      <td>2.3</td>\n",
       "      <td>1</td>\n",
       "      <td>1</td>\n",
       "      <td>0</td>\n",
       "      <td>0</td>\n",
       "      <td>1</td>\n",
       "      <td>...</td>\n",
       "      <td>0</td>\n",
       "      <td>0</td>\n",
       "      <td>0</td>\n",
       "      <td>0</td>\n",
       "      <td>0</td>\n",
       "      <td>0</td>\n",
       "      <td>0</td>\n",
       "      <td>1</td>\n",
       "      <td>0</td>\n",
       "      <td>0</td>\n",
       "    </tr>\n",
       "    <tr>\n",
       "      <th>1</th>\n",
       "      <td>37</td>\n",
       "      <td>130</td>\n",
       "      <td>250</td>\n",
       "      <td>187</td>\n",
       "      <td>3.5</td>\n",
       "      <td>1</td>\n",
       "      <td>1</td>\n",
       "      <td>0</td>\n",
       "      <td>1</td>\n",
       "      <td>0</td>\n",
       "      <td>...</td>\n",
       "      <td>0</td>\n",
       "      <td>0</td>\n",
       "      <td>0</td>\n",
       "      <td>0</td>\n",
       "      <td>0</td>\n",
       "      <td>0</td>\n",
       "      <td>0</td>\n",
       "      <td>0</td>\n",
       "      <td>1</td>\n",
       "      <td>0</td>\n",
       "    </tr>\n",
       "    <tr>\n",
       "      <th>2</th>\n",
       "      <td>41</td>\n",
       "      <td>130</td>\n",
       "      <td>204</td>\n",
       "      <td>172</td>\n",
       "      <td>1.4</td>\n",
       "      <td>1</td>\n",
       "      <td>0</td>\n",
       "      <td>1</td>\n",
       "      <td>0</td>\n",
       "      <td>0</td>\n",
       "      <td>...</td>\n",
       "      <td>0</td>\n",
       "      <td>0</td>\n",
       "      <td>1</td>\n",
       "      <td>0</td>\n",
       "      <td>0</td>\n",
       "      <td>0</td>\n",
       "      <td>0</td>\n",
       "      <td>0</td>\n",
       "      <td>1</td>\n",
       "      <td>0</td>\n",
       "    </tr>\n",
       "    <tr>\n",
       "      <th>3</th>\n",
       "      <td>56</td>\n",
       "      <td>120</td>\n",
       "      <td>236</td>\n",
       "      <td>178</td>\n",
       "      <td>0.8</td>\n",
       "      <td>1</td>\n",
       "      <td>1</td>\n",
       "      <td>1</td>\n",
       "      <td>0</td>\n",
       "      <td>0</td>\n",
       "      <td>...</td>\n",
       "      <td>0</td>\n",
       "      <td>0</td>\n",
       "      <td>1</td>\n",
       "      <td>0</td>\n",
       "      <td>0</td>\n",
       "      <td>0</td>\n",
       "      <td>0</td>\n",
       "      <td>0</td>\n",
       "      <td>1</td>\n",
       "      <td>0</td>\n",
       "    </tr>\n",
       "    <tr>\n",
       "      <th>4</th>\n",
       "      <td>57</td>\n",
       "      <td>120</td>\n",
       "      <td>354</td>\n",
       "      <td>163</td>\n",
       "      <td>0.6</td>\n",
       "      <td>1</td>\n",
       "      <td>0</td>\n",
       "      <td>0</td>\n",
       "      <td>0</td>\n",
       "      <td>0</td>\n",
       "      <td>...</td>\n",
       "      <td>1</td>\n",
       "      <td>0</td>\n",
       "      <td>1</td>\n",
       "      <td>0</td>\n",
       "      <td>0</td>\n",
       "      <td>0</td>\n",
       "      <td>0</td>\n",
       "      <td>0</td>\n",
       "      <td>1</td>\n",
       "      <td>0</td>\n",
       "    </tr>\n",
       "  </tbody>\n",
       "</table>\n",
       "<p>5 rows × 23 columns</p>\n",
       "</div>"
      ],
      "text/plain": [
       "   age  trestbps  chol  thalach  oldpeak  target  sex_1  cp_1  cp_2  cp_3  \\\n",
       "0   63       145   233      150      2.3       1      1     0     0     1   \n",
       "1   37       130   250      187      3.5       1      1     0     1     0   \n",
       "2   41       130   204      172      1.4       1      0     1     0     0   \n",
       "3   56       120   236      178      0.8       1      1     1     0     0   \n",
       "4   57       120   354      163      0.6       1      0     0     0     0   \n",
       "\n",
       "   ...  exang_1  slope_1  slope_2  ca_1  ca_2  ca_3  ca_4  thal_1  thal_2  \\\n",
       "0  ...        0        0        0     0     0     0     0       1       0   \n",
       "1  ...        0        0        0     0     0     0     0       0       1   \n",
       "2  ...        0        0        1     0     0     0     0       0       1   \n",
       "3  ...        0        0        1     0     0     0     0       0       1   \n",
       "4  ...        1        0        1     0     0     0     0       0       1   \n",
       "\n",
       "   thal_3  \n",
       "0       0  \n",
       "1       0  \n",
       "2       0  \n",
       "3       0  \n",
       "4       0  \n",
       "\n",
       "[5 rows x 23 columns]"
      ]
     },
     "execution_count": 22,
     "metadata": {},
     "output_type": "execute_result"
    }
   ],
   "source": [
    "df2 = pd.get_dummies(df1, columns=['sex', 'cp', 'fbs', 'restecg', 'exang', 'slope', 'ca', 'thal'], dummy_na=False, drop_first=True)\n",
    "df2.head()"
   ]
  },
  {
   "cell_type": "markdown",
   "metadata": {
    "id": "Ktlyb-aoO7uC",
    "papermill": {
     "duration": 0.061146,
     "end_time": "2020-11-23T11:32:28.868525",
     "exception": false,
     "start_time": "2020-11-23T11:32:28.807379",
     "status": "completed"
    },
    "tags": []
   },
   "source": [
    "## Feature Scaling\n",
    "Let's normalized the imbalaced values of variable"
   ]
  },
  {
   "cell_type": "code",
   "execution_count": 23,
   "metadata": {
    "execution": {
     "iopub.execute_input": "2020-11-23T11:32:28.999721Z",
     "iopub.status.busy": "2020-11-23T11:32:28.998946Z",
     "iopub.status.idle": "2020-11-23T11:32:29.062739Z",
     "shell.execute_reply": "2020-11-23T11:32:29.062065Z"
    },
    "id": "UCEzjQvhN9er",
    "papermill": {
     "duration": 0.131821,
     "end_time": "2020-11-23T11:32:29.062866",
     "exception": false,
     "start_time": "2020-11-23T11:32:28.931045",
     "status": "completed"
    },
    "tags": []
   },
   "outputs": [],
   "source": [
    "from sklearn.preprocessing import StandardScaler\n",
    "ss = StandardScaler()\n",
    "columns_to_scale = ['age', 'trestbps', 'chol', 'thalach', 'oldpeak']\n",
    "df2[columns_to_scale] = ss.fit_transform(df2[columns_to_scale])"
   ]
  },
  {
   "cell_type": "code",
   "execution_count": 24,
   "metadata": {
    "execution": {
     "iopub.execute_input": "2020-11-23T11:32:29.188671Z",
     "iopub.status.busy": "2020-11-23T11:32:29.187808Z",
     "iopub.status.idle": "2020-11-23T11:32:29.206549Z",
     "shell.execute_reply": "2020-11-23T11:32:29.205954Z"
    },
    "id": "eZjV5Qa6RYyZ",
    "outputId": "bc302d7f-3576-4166-80c8-91b69bbd69df",
    "papermill": {
     "duration": 0.083517,
     "end_time": "2020-11-23T11:32:29.206652",
     "exception": false,
     "start_time": "2020-11-23T11:32:29.123135",
     "status": "completed"
    },
    "tags": []
   },
   "outputs": [
    {
     "data": {
      "text/html": [
       "<div>\n",
       "<style scoped>\n",
       "    .dataframe tbody tr th:only-of-type {\n",
       "        vertical-align: middle;\n",
       "    }\n",
       "\n",
       "    .dataframe tbody tr th {\n",
       "        vertical-align: top;\n",
       "    }\n",
       "\n",
       "    .dataframe thead th {\n",
       "        text-align: right;\n",
       "    }\n",
       "</style>\n",
       "<table border=\"1\" class=\"dataframe\">\n",
       "  <thead>\n",
       "    <tr style=\"text-align: right;\">\n",
       "      <th></th>\n",
       "      <th>age</th>\n",
       "      <th>trestbps</th>\n",
       "      <th>chol</th>\n",
       "      <th>thalach</th>\n",
       "      <th>oldpeak</th>\n",
       "      <th>target</th>\n",
       "      <th>sex_1</th>\n",
       "      <th>cp_1</th>\n",
       "      <th>cp_2</th>\n",
       "      <th>cp_3</th>\n",
       "      <th>...</th>\n",
       "      <th>exang_1</th>\n",
       "      <th>slope_1</th>\n",
       "      <th>slope_2</th>\n",
       "      <th>ca_1</th>\n",
       "      <th>ca_2</th>\n",
       "      <th>ca_3</th>\n",
       "      <th>ca_4</th>\n",
       "      <th>thal_1</th>\n",
       "      <th>thal_2</th>\n",
       "      <th>thal_3</th>\n",
       "    </tr>\n",
       "  </thead>\n",
       "  <tbody>\n",
       "    <tr>\n",
       "      <th>0</th>\n",
       "      <td>0.952197</td>\n",
       "      <td>0.763956</td>\n",
       "      <td>-0.256334</td>\n",
       "      <td>0.015443</td>\n",
       "      <td>1.087338</td>\n",
       "      <td>1</td>\n",
       "      <td>1</td>\n",
       "      <td>0</td>\n",
       "      <td>0</td>\n",
       "      <td>1</td>\n",
       "      <td>...</td>\n",
       "      <td>0</td>\n",
       "      <td>0</td>\n",
       "      <td>0</td>\n",
       "      <td>0</td>\n",
       "      <td>0</td>\n",
       "      <td>0</td>\n",
       "      <td>0</td>\n",
       "      <td>1</td>\n",
       "      <td>0</td>\n",
       "      <td>0</td>\n",
       "    </tr>\n",
       "    <tr>\n",
       "      <th>1</th>\n",
       "      <td>-1.915313</td>\n",
       "      <td>-0.092738</td>\n",
       "      <td>0.072199</td>\n",
       "      <td>1.633471</td>\n",
       "      <td>2.122573</td>\n",
       "      <td>1</td>\n",
       "      <td>1</td>\n",
       "      <td>0</td>\n",
       "      <td>1</td>\n",
       "      <td>0</td>\n",
       "      <td>...</td>\n",
       "      <td>0</td>\n",
       "      <td>0</td>\n",
       "      <td>0</td>\n",
       "      <td>0</td>\n",
       "      <td>0</td>\n",
       "      <td>0</td>\n",
       "      <td>0</td>\n",
       "      <td>0</td>\n",
       "      <td>1</td>\n",
       "      <td>0</td>\n",
       "    </tr>\n",
       "    <tr>\n",
       "      <th>2</th>\n",
       "      <td>-1.474158</td>\n",
       "      <td>-0.092738</td>\n",
       "      <td>-0.816773</td>\n",
       "      <td>0.977514</td>\n",
       "      <td>0.310912</td>\n",
       "      <td>1</td>\n",
       "      <td>0</td>\n",
       "      <td>1</td>\n",
       "      <td>0</td>\n",
       "      <td>0</td>\n",
       "      <td>...</td>\n",
       "      <td>0</td>\n",
       "      <td>0</td>\n",
       "      <td>1</td>\n",
       "      <td>0</td>\n",
       "      <td>0</td>\n",
       "      <td>0</td>\n",
       "      <td>0</td>\n",
       "      <td>0</td>\n",
       "      <td>1</td>\n",
       "      <td>0</td>\n",
       "    </tr>\n",
       "    <tr>\n",
       "      <th>3</th>\n",
       "      <td>0.180175</td>\n",
       "      <td>-0.663867</td>\n",
       "      <td>-0.198357</td>\n",
       "      <td>1.239897</td>\n",
       "      <td>-0.206705</td>\n",
       "      <td>1</td>\n",
       "      <td>1</td>\n",
       "      <td>1</td>\n",
       "      <td>0</td>\n",
       "      <td>0</td>\n",
       "      <td>...</td>\n",
       "      <td>0</td>\n",
       "      <td>0</td>\n",
       "      <td>1</td>\n",
       "      <td>0</td>\n",
       "      <td>0</td>\n",
       "      <td>0</td>\n",
       "      <td>0</td>\n",
       "      <td>0</td>\n",
       "      <td>1</td>\n",
       "      <td>0</td>\n",
       "    </tr>\n",
       "    <tr>\n",
       "      <th>4</th>\n",
       "      <td>0.290464</td>\n",
       "      <td>-0.663867</td>\n",
       "      <td>2.082050</td>\n",
       "      <td>0.583939</td>\n",
       "      <td>-0.379244</td>\n",
       "      <td>1</td>\n",
       "      <td>0</td>\n",
       "      <td>0</td>\n",
       "      <td>0</td>\n",
       "      <td>0</td>\n",
       "      <td>...</td>\n",
       "      <td>1</td>\n",
       "      <td>0</td>\n",
       "      <td>1</td>\n",
       "      <td>0</td>\n",
       "      <td>0</td>\n",
       "      <td>0</td>\n",
       "      <td>0</td>\n",
       "      <td>0</td>\n",
       "      <td>1</td>\n",
       "      <td>0</td>\n",
       "    </tr>\n",
       "  </tbody>\n",
       "</table>\n",
       "<p>5 rows × 23 columns</p>\n",
       "</div>"
      ],
      "text/plain": [
       "        age  trestbps      chol   thalach   oldpeak  target  sex_1  cp_1  \\\n",
       "0  0.952197  0.763956 -0.256334  0.015443  1.087338       1      1     0   \n",
       "1 -1.915313 -0.092738  0.072199  1.633471  2.122573       1      1     0   \n",
       "2 -1.474158 -0.092738 -0.816773  0.977514  0.310912       1      0     1   \n",
       "3  0.180175 -0.663867 -0.198357  1.239897 -0.206705       1      1     1   \n",
       "4  0.290464 -0.663867  2.082050  0.583939 -0.379244       1      0     0   \n",
       "\n",
       "   cp_2  cp_3  ...  exang_1  slope_1  slope_2  ca_1  ca_2  ca_3  ca_4  thal_1  \\\n",
       "0     0     1  ...        0        0        0     0     0     0     0       1   \n",
       "1     1     0  ...        0        0        0     0     0     0     0       0   \n",
       "2     0     0  ...        0        0        1     0     0     0     0       0   \n",
       "3     0     0  ...        0        0        1     0     0     0     0       0   \n",
       "4     0     0  ...        1        0        1     0     0     0     0       0   \n",
       "\n",
       "   thal_2  thal_3  \n",
       "0       0       0  \n",
       "1       1       0  \n",
       "2       1       0  \n",
       "3       1       0  \n",
       "4       1       0  \n",
       "\n",
       "[5 rows x 23 columns]"
      ]
     },
     "execution_count": 24,
     "metadata": {},
     "output_type": "execute_result"
    }
   ],
   "source": [
    "df2.head()"
   ]
  },
  {
   "cell_type": "markdown",
   "metadata": {
    "id": "WA7ae83K4qrB",
    "papermill": {
     "duration": 0.060674,
     "end_time": "2020-11-23T11:32:29.328385",
     "exception": false,
     "start_time": "2020-11-23T11:32:29.267711",
     "status": "completed"
    },
    "tags": []
   },
   "source": [
    "## Split data for Training & Testing\n",
    "\n",
    "We will split our data. 80% of our data will be train data and 20% of it will be test data."
   ]
  },
  {
   "cell_type": "code",
   "execution_count": 25,
   "metadata": {
    "execution": {
     "iopub.execute_input": "2020-11-23T11:32:29.458836Z",
     "iopub.status.busy": "2020-11-23T11:32:29.458051Z",
     "iopub.status.idle": "2020-11-23T11:32:29.460996Z",
     "shell.execute_reply": "2020-11-23T11:32:29.460510Z"
    },
    "id": "blJZ5vD5RaMf",
    "papermill": {
     "duration": 0.069752,
     "end_time": "2020-11-23T11:32:29.461094",
     "exception": false,
     "start_time": "2020-11-23T11:32:29.391342",
     "status": "completed"
    },
    "tags": []
   },
   "outputs": [],
   "source": [
    "X = df2.drop(['target'], axis=1)\n",
    "Y = df2.target.values"
   ]
  },
  {
   "cell_type": "code",
   "execution_count": 26,
   "metadata": {
    "execution": {
     "iopub.execute_input": "2020-11-23T11:32:29.592360Z",
     "iopub.status.busy": "2020-11-23T11:32:29.591559Z",
     "iopub.status.idle": "2020-11-23T11:32:29.595355Z",
     "shell.execute_reply": "2020-11-23T11:32:29.596160Z"
    },
    "id": "aO4xDCqD-WA4",
    "outputId": "4a841306-3ced-458e-8530-2fe44ba9ee7f",
    "papermill": {
     "duration": 0.071552,
     "end_time": "2020-11-23T11:32:29.596345",
     "exception": false,
     "start_time": "2020-11-23T11:32:29.524793",
     "status": "completed"
    },
    "tags": []
   },
   "outputs": [
    {
     "name": "stdout",
     "output_type": "stream",
     "text": [
      "(303, 22)\n",
      "(303,)\n"
     ]
    }
   ],
   "source": [
    "print(X.shape)\n",
    "print(Y.shape)"
   ]
  },
  {
   "cell_type": "code",
   "execution_count": 27,
   "metadata": {
    "execution": {
     "iopub.execute_input": "2020-11-23T11:32:29.729098Z",
     "iopub.status.busy": "2020-11-23T11:32:29.728347Z",
     "iopub.status.idle": "2020-11-23T11:32:29.779570Z",
     "shell.execute_reply": "2020-11-23T11:32:29.778869Z"
    },
    "id": "653w0KPK5YIA",
    "papermill": {
     "duration": 0.117114,
     "end_time": "2020-11-23T11:32:29.779677",
     "exception": false,
     "start_time": "2020-11-23T11:32:29.662563",
     "status": "completed"
    },
    "tags": []
   },
   "outputs": [],
   "source": [
    "from sklearn.model_selection import train_test_split\n",
    "x_train,x_test,y_train,y_test = train_test_split(X,Y,test_size = 0.2,random_state=42)"
   ]
  },
  {
   "cell_type": "code",
   "execution_count": 28,
   "metadata": {
    "execution": {
     "iopub.execute_input": "2020-11-23T11:32:29.910873Z",
     "iopub.status.busy": "2020-11-23T11:32:29.910176Z",
     "iopub.status.idle": "2020-11-23T11:32:29.913561Z",
     "shell.execute_reply": "2020-11-23T11:32:29.914096Z"
    },
    "id": "x3L-YnHj57_0",
    "outputId": "13c6520f-353d-4505-d792-f57fbb527877",
    "papermill": {
     "duration": 0.071811,
     "end_time": "2020-11-23T11:32:29.914217",
     "exception": false,
     "start_time": "2020-11-23T11:32:29.842406",
     "status": "completed"
    },
    "tags": []
   },
   "outputs": [
    {
     "name": "stdout",
     "output_type": "stream",
     "text": [
      "(242, 22)\n",
      "(61, 22)\n",
      "(242,)\n",
      "(61,)\n"
     ]
    }
   ],
   "source": [
    "print(x_train.shape)\n",
    "print(x_test.shape)\n",
    "print(y_train.shape)\n",
    "print(y_test.shape)"
   ]
  },
  {
   "cell_type": "code",
   "execution_count": 29,
   "metadata": {
    "execution": {
     "iopub.execute_input": "2020-11-23T11:32:30.074352Z",
     "iopub.status.busy": "2020-11-23T11:32:30.070045Z",
     "iopub.status.idle": "2020-11-23T11:32:30.078766Z",
     "shell.execute_reply": "2020-11-23T11:32:30.079358Z"
    },
    "id": "kL3Z5V9cJCO4",
    "outputId": "920c3efe-a086-4f4e-bd21-02319a4a1212",
    "papermill": {
     "duration": 0.10265,
     "end_time": "2020-11-23T11:32:30.079497",
     "exception": false,
     "start_time": "2020-11-23T11:32:29.976847",
     "status": "completed"
    },
    "tags": []
   },
   "outputs": [
    {
     "data": {
      "text/html": [
       "<div>\n",
       "<style scoped>\n",
       "    .dataframe tbody tr th:only-of-type {\n",
       "        vertical-align: middle;\n",
       "    }\n",
       "\n",
       "    .dataframe tbody tr th {\n",
       "        vertical-align: top;\n",
       "    }\n",
       "\n",
       "    .dataframe thead th {\n",
       "        text-align: right;\n",
       "    }\n",
       "</style>\n",
       "<table border=\"1\" class=\"dataframe\">\n",
       "  <thead>\n",
       "    <tr style=\"text-align: right;\">\n",
       "      <th></th>\n",
       "      <th>179</th>\n",
       "      <th>228</th>\n",
       "      <th>111</th>\n",
       "      <th>246</th>\n",
       "      <th>60</th>\n",
       "      <th>9</th>\n",
       "      <th>119</th>\n",
       "      <th>223</th>\n",
       "      <th>268</th>\n",
       "      <th>33</th>\n",
       "      <th>...</th>\n",
       "      <th>255</th>\n",
       "      <th>63</th>\n",
       "      <th>82</th>\n",
       "      <th>236</th>\n",
       "      <th>204</th>\n",
       "      <th>249</th>\n",
       "      <th>104</th>\n",
       "      <th>300</th>\n",
       "      <th>193</th>\n",
       "      <th>184</th>\n",
       "    </tr>\n",
       "  </thead>\n",
       "  <tbody>\n",
       "    <tr>\n",
       "      <th>age</th>\n",
       "      <td>0.290464</td>\n",
       "      <td>0.511041</td>\n",
       "      <td>0.290464</td>\n",
       "      <td>0.180175</td>\n",
       "      <td>1.834507</td>\n",
       "      <td>0.290464</td>\n",
       "      <td>-0.922713</td>\n",
       "      <td>0.180175</td>\n",
       "      <td>-0.040403</td>\n",
       "      <td>-0.040403</td>\n",
       "      <td>...</td>\n",
       "      <td>-1.033002</td>\n",
       "      <td>-1.474158</td>\n",
       "      <td>0.621330</td>\n",
       "      <td>0.400752</td>\n",
       "      <td>0.841908</td>\n",
       "      <td>1.613930</td>\n",
       "      <td>-0.481558</td>\n",
       "      <td>1.503641</td>\n",
       "      <td>0.621330</td>\n",
       "      <td>-0.481558</td>\n",
       "    </tr>\n",
       "    <tr>\n",
       "      <th>trestbps</th>\n",
       "      <td>1.049520</td>\n",
       "      <td>2.191778</td>\n",
       "      <td>1.049520</td>\n",
       "      <td>0.135714</td>\n",
       "      <td>-1.234996</td>\n",
       "      <td>1.049520</td>\n",
       "      <td>0.364165</td>\n",
       "      <td>3.905165</td>\n",
       "      <td>-0.549641</td>\n",
       "      <td>-0.378302</td>\n",
       "      <td>...</td>\n",
       "      <td>0.592617</td>\n",
       "      <td>0.192827</td>\n",
       "      <td>-1.691899</td>\n",
       "      <td>-0.378302</td>\n",
       "      <td>1.620649</td>\n",
       "      <td>0.478391</td>\n",
       "      <td>-0.149851</td>\n",
       "      <td>0.706843</td>\n",
       "      <td>0.763956</td>\n",
       "      <td>1.049520</td>\n",
       "    </tr>\n",
       "    <tr>\n",
       "      <th>chol</th>\n",
       "      <td>0.574662</td>\n",
       "      <td>0.806568</td>\n",
       "      <td>-2.324160</td>\n",
       "      <td>3.144951</td>\n",
       "      <td>0.362082</td>\n",
       "      <td>-1.512490</td>\n",
       "      <td>-0.063079</td>\n",
       "      <td>0.806568</td>\n",
       "      <td>0.767917</td>\n",
       "      <td>0.516686</td>\n",
       "      <td>...</td>\n",
       "      <td>1.212403</td>\n",
       "      <td>-0.836098</td>\n",
       "      <td>1.386332</td>\n",
       "      <td>1.038474</td>\n",
       "      <td>-1.589792</td>\n",
       "      <td>0.149501</td>\n",
       "      <td>-0.971377</td>\n",
       "      <td>-1.029353</td>\n",
       "      <td>0.690615</td>\n",
       "      <td>-0.063079</td>\n",
       "    </tr>\n",
       "    <tr>\n",
       "      <th>thalach</th>\n",
       "      <td>-1.646316</td>\n",
       "      <td>0.409017</td>\n",
       "      <td>1.021244</td>\n",
       "      <td>0.015443</td>\n",
       "      <td>-0.859167</td>\n",
       "      <td>1.064975</td>\n",
       "      <td>0.102904</td>\n",
       "      <td>-0.727976</td>\n",
       "      <td>-1.471394</td>\n",
       "      <td>0.102904</td>\n",
       "      <td>...</td>\n",
       "      <td>-0.115749</td>\n",
       "      <td>-0.771706</td>\n",
       "      <td>0.452748</td>\n",
       "      <td>0.933783</td>\n",
       "      <td>-0.203210</td>\n",
       "      <td>-0.159479</td>\n",
       "      <td>0.583939</td>\n",
       "      <td>-0.378132</td>\n",
       "      <td>-0.334401</td>\n",
       "      <td>-0.946628</td>\n",
       "    </tr>\n",
       "    <tr>\n",
       "      <th>oldpeak</th>\n",
       "      <td>-0.379244</td>\n",
       "      <td>-0.724323</td>\n",
       "      <td>-0.724323</td>\n",
       "      <td>0.742260</td>\n",
       "      <td>-0.896862</td>\n",
       "      <td>0.483451</td>\n",
       "      <td>-0.896862</td>\n",
       "      <td>2.553921</td>\n",
       "      <td>1.863764</td>\n",
       "      <td>-0.465514</td>\n",
       "      <td>...</td>\n",
       "      <td>-0.896862</td>\n",
       "      <td>-0.896862</td>\n",
       "      <td>-0.896862</td>\n",
       "      <td>-0.896862</td>\n",
       "      <td>4.451851</td>\n",
       "      <td>0.828529</td>\n",
       "      <td>-0.896862</td>\n",
       "      <td>2.036303</td>\n",
       "      <td>1.518686</td>\n",
       "      <td>1.346147</td>\n",
       "    </tr>\n",
       "    <tr>\n",
       "      <th>sex_1</th>\n",
       "      <td>1.000000</td>\n",
       "      <td>1.000000</td>\n",
       "      <td>1.000000</td>\n",
       "      <td>0.000000</td>\n",
       "      <td>0.000000</td>\n",
       "      <td>1.000000</td>\n",
       "      <td>0.000000</td>\n",
       "      <td>0.000000</td>\n",
       "      <td>1.000000</td>\n",
       "      <td>1.000000</td>\n",
       "      <td>...</td>\n",
       "      <td>1.000000</td>\n",
       "      <td>1.000000</td>\n",
       "      <td>0.000000</td>\n",
       "      <td>1.000000</td>\n",
       "      <td>0.000000</td>\n",
       "      <td>1.000000</td>\n",
       "      <td>1.000000</td>\n",
       "      <td>1.000000</td>\n",
       "      <td>1.000000</td>\n",
       "      <td>1.000000</td>\n",
       "    </tr>\n",
       "    <tr>\n",
       "      <th>cp_1</th>\n",
       "      <td>0.000000</td>\n",
       "      <td>0.000000</td>\n",
       "      <td>0.000000</td>\n",
       "      <td>0.000000</td>\n",
       "      <td>0.000000</td>\n",
       "      <td>0.000000</td>\n",
       "      <td>0.000000</td>\n",
       "      <td>0.000000</td>\n",
       "      <td>0.000000</td>\n",
       "      <td>0.000000</td>\n",
       "      <td>...</td>\n",
       "      <td>0.000000</td>\n",
       "      <td>1.000000</td>\n",
       "      <td>0.000000</td>\n",
       "      <td>0.000000</td>\n",
       "      <td>0.000000</td>\n",
       "      <td>0.000000</td>\n",
       "      <td>0.000000</td>\n",
       "      <td>0.000000</td>\n",
       "      <td>0.000000</td>\n",
       "      <td>0.000000</td>\n",
       "    </tr>\n",
       "    <tr>\n",
       "      <th>cp_2</th>\n",
       "      <td>0.000000</td>\n",
       "      <td>0.000000</td>\n",
       "      <td>1.000000</td>\n",
       "      <td>0.000000</td>\n",
       "      <td>1.000000</td>\n",
       "      <td>1.000000</td>\n",
       "      <td>0.000000</td>\n",
       "      <td>0.000000</td>\n",
       "      <td>0.000000</td>\n",
       "      <td>1.000000</td>\n",
       "      <td>...</td>\n",
       "      <td>0.000000</td>\n",
       "      <td>0.000000</td>\n",
       "      <td>1.000000</td>\n",
       "      <td>0.000000</td>\n",
       "      <td>0.000000</td>\n",
       "      <td>1.000000</td>\n",
       "      <td>1.000000</td>\n",
       "      <td>0.000000</td>\n",
       "      <td>0.000000</td>\n",
       "      <td>0.000000</td>\n",
       "    </tr>\n",
       "    <tr>\n",
       "      <th>cp_3</th>\n",
       "      <td>0.000000</td>\n",
       "      <td>1.000000</td>\n",
       "      <td>0.000000</td>\n",
       "      <td>0.000000</td>\n",
       "      <td>0.000000</td>\n",
       "      <td>0.000000</td>\n",
       "      <td>0.000000</td>\n",
       "      <td>0.000000</td>\n",
       "      <td>0.000000</td>\n",
       "      <td>0.000000</td>\n",
       "      <td>...</td>\n",
       "      <td>0.000000</td>\n",
       "      <td>0.000000</td>\n",
       "      <td>0.000000</td>\n",
       "      <td>0.000000</td>\n",
       "      <td>0.000000</td>\n",
       "      <td>0.000000</td>\n",
       "      <td>0.000000</td>\n",
       "      <td>0.000000</td>\n",
       "      <td>0.000000</td>\n",
       "      <td>0.000000</td>\n",
       "    </tr>\n",
       "    <tr>\n",
       "      <th>fbs_1</th>\n",
       "      <td>0.000000</td>\n",
       "      <td>0.000000</td>\n",
       "      <td>1.000000</td>\n",
       "      <td>0.000000</td>\n",
       "      <td>1.000000</td>\n",
       "      <td>0.000000</td>\n",
       "      <td>0.000000</td>\n",
       "      <td>1.000000</td>\n",
       "      <td>0.000000</td>\n",
       "      <td>0.000000</td>\n",
       "      <td>...</td>\n",
       "      <td>0.000000</td>\n",
       "      <td>0.000000</td>\n",
       "      <td>0.000000</td>\n",
       "      <td>0.000000</td>\n",
       "      <td>0.000000</td>\n",
       "      <td>0.000000</td>\n",
       "      <td>0.000000</td>\n",
       "      <td>1.000000</td>\n",
       "      <td>0.000000</td>\n",
       "      <td>0.000000</td>\n",
       "    </tr>\n",
       "    <tr>\n",
       "      <th>restecg_1</th>\n",
       "      <td>0.000000</td>\n",
       "      <td>0.000000</td>\n",
       "      <td>1.000000</td>\n",
       "      <td>0.000000</td>\n",
       "      <td>0.000000</td>\n",
       "      <td>1.000000</td>\n",
       "      <td>0.000000</td>\n",
       "      <td>0.000000</td>\n",
       "      <td>0.000000</td>\n",
       "      <td>0.000000</td>\n",
       "      <td>...</td>\n",
       "      <td>0.000000</td>\n",
       "      <td>1.000000</td>\n",
       "      <td>1.000000</td>\n",
       "      <td>0.000000</td>\n",
       "      <td>0.000000</td>\n",
       "      <td>0.000000</td>\n",
       "      <td>1.000000</td>\n",
       "      <td>1.000000</td>\n",
       "      <td>0.000000</td>\n",
       "      <td>0.000000</td>\n",
       "    </tr>\n",
       "    <tr>\n",
       "      <th>restecg_2</th>\n",
       "      <td>0.000000</td>\n",
       "      <td>0.000000</td>\n",
       "      <td>0.000000</td>\n",
       "      <td>0.000000</td>\n",
       "      <td>0.000000</td>\n",
       "      <td>0.000000</td>\n",
       "      <td>0.000000</td>\n",
       "      <td>0.000000</td>\n",
       "      <td>0.000000</td>\n",
       "      <td>0.000000</td>\n",
       "      <td>...</td>\n",
       "      <td>0.000000</td>\n",
       "      <td>0.000000</td>\n",
       "      <td>0.000000</td>\n",
       "      <td>0.000000</td>\n",
       "      <td>0.000000</td>\n",
       "      <td>0.000000</td>\n",
       "      <td>0.000000</td>\n",
       "      <td>0.000000</td>\n",
       "      <td>0.000000</td>\n",
       "      <td>0.000000</td>\n",
       "    </tr>\n",
       "    <tr>\n",
       "      <th>exang_1</th>\n",
       "      <td>1.000000</td>\n",
       "      <td>0.000000</td>\n",
       "      <td>0.000000</td>\n",
       "      <td>1.000000</td>\n",
       "      <td>0.000000</td>\n",
       "      <td>0.000000</td>\n",
       "      <td>1.000000</td>\n",
       "      <td>1.000000</td>\n",
       "      <td>1.000000</td>\n",
       "      <td>0.000000</td>\n",
       "      <td>...</td>\n",
       "      <td>1.000000</td>\n",
       "      <td>0.000000</td>\n",
       "      <td>0.000000</td>\n",
       "      <td>0.000000</td>\n",
       "      <td>0.000000</td>\n",
       "      <td>0.000000</td>\n",
       "      <td>0.000000</td>\n",
       "      <td>0.000000</td>\n",
       "      <td>1.000000</td>\n",
       "      <td>0.000000</td>\n",
       "    </tr>\n",
       "    <tr>\n",
       "      <th>slope_1</th>\n",
       "      <td>1.000000</td>\n",
       "      <td>1.000000</td>\n",
       "      <td>0.000000</td>\n",
       "      <td>1.000000</td>\n",
       "      <td>0.000000</td>\n",
       "      <td>0.000000</td>\n",
       "      <td>1.000000</td>\n",
       "      <td>0.000000</td>\n",
       "      <td>1.000000</td>\n",
       "      <td>0.000000</td>\n",
       "      <td>...</td>\n",
       "      <td>1.000000</td>\n",
       "      <td>1.000000</td>\n",
       "      <td>0.000000</td>\n",
       "      <td>0.000000</td>\n",
       "      <td>0.000000</td>\n",
       "      <td>1.000000</td>\n",
       "      <td>0.000000</td>\n",
       "      <td>1.000000</td>\n",
       "      <td>1.000000</td>\n",
       "      <td>1.000000</td>\n",
       "    </tr>\n",
       "    <tr>\n",
       "      <th>slope_2</th>\n",
       "      <td>0.000000</td>\n",
       "      <td>0.000000</td>\n",
       "      <td>1.000000</td>\n",
       "      <td>0.000000</td>\n",
       "      <td>1.000000</td>\n",
       "      <td>1.000000</td>\n",
       "      <td>0.000000</td>\n",
       "      <td>0.000000</td>\n",
       "      <td>0.000000</td>\n",
       "      <td>0.000000</td>\n",
       "      <td>...</td>\n",
       "      <td>0.000000</td>\n",
       "      <td>0.000000</td>\n",
       "      <td>1.000000</td>\n",
       "      <td>1.000000</td>\n",
       "      <td>0.000000</td>\n",
       "      <td>0.000000</td>\n",
       "      <td>1.000000</td>\n",
       "      <td>0.000000</td>\n",
       "      <td>0.000000</td>\n",
       "      <td>0.000000</td>\n",
       "    </tr>\n",
       "    <tr>\n",
       "      <th>ca_1</th>\n",
       "      <td>1.000000</td>\n",
       "      <td>0.000000</td>\n",
       "      <td>1.000000</td>\n",
       "      <td>0.000000</td>\n",
       "      <td>1.000000</td>\n",
       "      <td>0.000000</td>\n",
       "      <td>0.000000</td>\n",
       "      <td>0.000000</td>\n",
       "      <td>0.000000</td>\n",
       "      <td>1.000000</td>\n",
       "      <td>...</td>\n",
       "      <td>0.000000</td>\n",
       "      <td>0.000000</td>\n",
       "      <td>1.000000</td>\n",
       "      <td>0.000000</td>\n",
       "      <td>0.000000</td>\n",
       "      <td>0.000000</td>\n",
       "      <td>0.000000</td>\n",
       "      <td>0.000000</td>\n",
       "      <td>0.000000</td>\n",
       "      <td>0.000000</td>\n",
       "    </tr>\n",
       "    <tr>\n",
       "      <th>ca_2</th>\n",
       "      <td>0.000000</td>\n",
       "      <td>0.000000</td>\n",
       "      <td>0.000000</td>\n",
       "      <td>1.000000</td>\n",
       "      <td>0.000000</td>\n",
       "      <td>0.000000</td>\n",
       "      <td>0.000000</td>\n",
       "      <td>1.000000</td>\n",
       "      <td>1.000000</td>\n",
       "      <td>0.000000</td>\n",
       "      <td>...</td>\n",
       "      <td>0.000000</td>\n",
       "      <td>0.000000</td>\n",
       "      <td>0.000000</td>\n",
       "      <td>1.000000</td>\n",
       "      <td>0.000000</td>\n",
       "      <td>0.000000</td>\n",
       "      <td>0.000000</td>\n",
       "      <td>1.000000</td>\n",
       "      <td>1.000000</td>\n",
       "      <td>0.000000</td>\n",
       "    </tr>\n",
       "    <tr>\n",
       "      <th>ca_3</th>\n",
       "      <td>0.000000</td>\n",
       "      <td>0.000000</td>\n",
       "      <td>0.000000</td>\n",
       "      <td>0.000000</td>\n",
       "      <td>0.000000</td>\n",
       "      <td>0.000000</td>\n",
       "      <td>0.000000</td>\n",
       "      <td>0.000000</td>\n",
       "      <td>0.000000</td>\n",
       "      <td>0.000000</td>\n",
       "      <td>...</td>\n",
       "      <td>1.000000</td>\n",
       "      <td>0.000000</td>\n",
       "      <td>0.000000</td>\n",
       "      <td>0.000000</td>\n",
       "      <td>1.000000</td>\n",
       "      <td>1.000000</td>\n",
       "      <td>0.000000</td>\n",
       "      <td>0.000000</td>\n",
       "      <td>0.000000</td>\n",
       "      <td>0.000000</td>\n",
       "    </tr>\n",
       "    <tr>\n",
       "      <th>ca_4</th>\n",
       "      <td>0.000000</td>\n",
       "      <td>0.000000</td>\n",
       "      <td>0.000000</td>\n",
       "      <td>0.000000</td>\n",
       "      <td>0.000000</td>\n",
       "      <td>0.000000</td>\n",
       "      <td>0.000000</td>\n",
       "      <td>0.000000</td>\n",
       "      <td>0.000000</td>\n",
       "      <td>0.000000</td>\n",
       "      <td>...</td>\n",
       "      <td>0.000000</td>\n",
       "      <td>0.000000</td>\n",
       "      <td>0.000000</td>\n",
       "      <td>0.000000</td>\n",
       "      <td>0.000000</td>\n",
       "      <td>0.000000</td>\n",
       "      <td>0.000000</td>\n",
       "      <td>0.000000</td>\n",
       "      <td>0.000000</td>\n",
       "      <td>0.000000</td>\n",
       "    </tr>\n",
       "    <tr>\n",
       "      <th>thal_1</th>\n",
       "      <td>1.000000</td>\n",
       "      <td>0.000000</td>\n",
       "      <td>0.000000</td>\n",
       "      <td>0.000000</td>\n",
       "      <td>0.000000</td>\n",
       "      <td>0.000000</td>\n",
       "      <td>0.000000</td>\n",
       "      <td>0.000000</td>\n",
       "      <td>0.000000</td>\n",
       "      <td>0.000000</td>\n",
       "      <td>...</td>\n",
       "      <td>0.000000</td>\n",
       "      <td>1.000000</td>\n",
       "      <td>0.000000</td>\n",
       "      <td>0.000000</td>\n",
       "      <td>0.000000</td>\n",
       "      <td>0.000000</td>\n",
       "      <td>0.000000</td>\n",
       "      <td>0.000000</td>\n",
       "      <td>0.000000</td>\n",
       "      <td>0.000000</td>\n",
       "    </tr>\n",
       "    <tr>\n",
       "      <th>thal_2</th>\n",
       "      <td>0.000000</td>\n",
       "      <td>0.000000</td>\n",
       "      <td>0.000000</td>\n",
       "      <td>0.000000</td>\n",
       "      <td>1.000000</td>\n",
       "      <td>1.000000</td>\n",
       "      <td>1.000000</td>\n",
       "      <td>0.000000</td>\n",
       "      <td>1.000000</td>\n",
       "      <td>1.000000</td>\n",
       "      <td>...</td>\n",
       "      <td>0.000000</td>\n",
       "      <td>0.000000</td>\n",
       "      <td>1.000000</td>\n",
       "      <td>0.000000</td>\n",
       "      <td>0.000000</td>\n",
       "      <td>0.000000</td>\n",
       "      <td>1.000000</td>\n",
       "      <td>0.000000</td>\n",
       "      <td>0.000000</td>\n",
       "      <td>0.000000</td>\n",
       "    </tr>\n",
       "    <tr>\n",
       "      <th>thal_3</th>\n",
       "      <td>0.000000</td>\n",
       "      <td>1.000000</td>\n",
       "      <td>1.000000</td>\n",
       "      <td>1.000000</td>\n",
       "      <td>0.000000</td>\n",
       "      <td>0.000000</td>\n",
       "      <td>0.000000</td>\n",
       "      <td>1.000000</td>\n",
       "      <td>0.000000</td>\n",
       "      <td>0.000000</td>\n",
       "      <td>...</td>\n",
       "      <td>1.000000</td>\n",
       "      <td>0.000000</td>\n",
       "      <td>0.000000</td>\n",
       "      <td>1.000000</td>\n",
       "      <td>1.000000</td>\n",
       "      <td>1.000000</td>\n",
       "      <td>0.000000</td>\n",
       "      <td>1.000000</td>\n",
       "      <td>1.000000</td>\n",
       "      <td>1.000000</td>\n",
       "    </tr>\n",
       "  </tbody>\n",
       "</table>\n",
       "<p>22 rows × 61 columns</p>\n",
       "</div>"
      ],
      "text/plain": [
       "                179       228       111       246       60        9    \\\n",
       "age        0.290464  0.511041  0.290464  0.180175  1.834507  0.290464   \n",
       "trestbps   1.049520  2.191778  1.049520  0.135714 -1.234996  1.049520   \n",
       "chol       0.574662  0.806568 -2.324160  3.144951  0.362082 -1.512490   \n",
       "thalach   -1.646316  0.409017  1.021244  0.015443 -0.859167  1.064975   \n",
       "oldpeak   -0.379244 -0.724323 -0.724323  0.742260 -0.896862  0.483451   \n",
       "sex_1      1.000000  1.000000  1.000000  0.000000  0.000000  1.000000   \n",
       "cp_1       0.000000  0.000000  0.000000  0.000000  0.000000  0.000000   \n",
       "cp_2       0.000000  0.000000  1.000000  0.000000  1.000000  1.000000   \n",
       "cp_3       0.000000  1.000000  0.000000  0.000000  0.000000  0.000000   \n",
       "fbs_1      0.000000  0.000000  1.000000  0.000000  1.000000  0.000000   \n",
       "restecg_1  0.000000  0.000000  1.000000  0.000000  0.000000  1.000000   \n",
       "restecg_2  0.000000  0.000000  0.000000  0.000000  0.000000  0.000000   \n",
       "exang_1    1.000000  0.000000  0.000000  1.000000  0.000000  0.000000   \n",
       "slope_1    1.000000  1.000000  0.000000  1.000000  0.000000  0.000000   \n",
       "slope_2    0.000000  0.000000  1.000000  0.000000  1.000000  1.000000   \n",
       "ca_1       1.000000  0.000000  1.000000  0.000000  1.000000  0.000000   \n",
       "ca_2       0.000000  0.000000  0.000000  1.000000  0.000000  0.000000   \n",
       "ca_3       0.000000  0.000000  0.000000  0.000000  0.000000  0.000000   \n",
       "ca_4       0.000000  0.000000  0.000000  0.000000  0.000000  0.000000   \n",
       "thal_1     1.000000  0.000000  0.000000  0.000000  0.000000  0.000000   \n",
       "thal_2     0.000000  0.000000  0.000000  0.000000  1.000000  1.000000   \n",
       "thal_3     0.000000  1.000000  1.000000  1.000000  0.000000  0.000000   \n",
       "\n",
       "                119       223       268       33   ...       255       63   \\\n",
       "age       -0.922713  0.180175 -0.040403 -0.040403  ... -1.033002 -1.474158   \n",
       "trestbps   0.364165  3.905165 -0.549641 -0.378302  ...  0.592617  0.192827   \n",
       "chol      -0.063079  0.806568  0.767917  0.516686  ...  1.212403 -0.836098   \n",
       "thalach    0.102904 -0.727976 -1.471394  0.102904  ... -0.115749 -0.771706   \n",
       "oldpeak   -0.896862  2.553921  1.863764 -0.465514  ... -0.896862 -0.896862   \n",
       "sex_1      0.000000  0.000000  1.000000  1.000000  ...  1.000000  1.000000   \n",
       "cp_1       0.000000  0.000000  0.000000  0.000000  ...  0.000000  1.000000   \n",
       "cp_2       0.000000  0.000000  0.000000  1.000000  ...  0.000000  0.000000   \n",
       "cp_3       0.000000  0.000000  0.000000  0.000000  ...  0.000000  0.000000   \n",
       "fbs_1      0.000000  1.000000  0.000000  0.000000  ...  0.000000  0.000000   \n",
       "restecg_1  0.000000  0.000000  0.000000  0.000000  ...  0.000000  1.000000   \n",
       "restecg_2  0.000000  0.000000  0.000000  0.000000  ...  0.000000  0.000000   \n",
       "exang_1    1.000000  1.000000  1.000000  0.000000  ...  1.000000  0.000000   \n",
       "slope_1    1.000000  0.000000  1.000000  0.000000  ...  1.000000  1.000000   \n",
       "slope_2    0.000000  0.000000  0.000000  0.000000  ...  0.000000  0.000000   \n",
       "ca_1       0.000000  0.000000  0.000000  1.000000  ...  0.000000  0.000000   \n",
       "ca_2       0.000000  1.000000  1.000000  0.000000  ...  0.000000  0.000000   \n",
       "ca_3       0.000000  0.000000  0.000000  0.000000  ...  1.000000  0.000000   \n",
       "ca_4       0.000000  0.000000  0.000000  0.000000  ...  0.000000  0.000000   \n",
       "thal_1     0.000000  0.000000  0.000000  0.000000  ...  0.000000  1.000000   \n",
       "thal_2     1.000000  0.000000  1.000000  1.000000  ...  0.000000  0.000000   \n",
       "thal_3     0.000000  1.000000  0.000000  0.000000  ...  1.000000  0.000000   \n",
       "\n",
       "                82        236       204       249       104       300  \\\n",
       "age        0.621330  0.400752  0.841908  1.613930 -0.481558  1.503641   \n",
       "trestbps  -1.691899 -0.378302  1.620649  0.478391 -0.149851  0.706843   \n",
       "chol       1.386332  1.038474 -1.589792  0.149501 -0.971377 -1.029353   \n",
       "thalach    0.452748  0.933783 -0.203210 -0.159479  0.583939 -0.378132   \n",
       "oldpeak   -0.896862 -0.896862  4.451851  0.828529 -0.896862  2.036303   \n",
       "sex_1      0.000000  1.000000  0.000000  1.000000  1.000000  1.000000   \n",
       "cp_1       0.000000  0.000000  0.000000  0.000000  0.000000  0.000000   \n",
       "cp_2       1.000000  0.000000  0.000000  1.000000  1.000000  0.000000   \n",
       "cp_3       0.000000  0.000000  0.000000  0.000000  0.000000  0.000000   \n",
       "fbs_1      0.000000  0.000000  0.000000  0.000000  0.000000  1.000000   \n",
       "restecg_1  1.000000  0.000000  0.000000  0.000000  1.000000  1.000000   \n",
       "restecg_2  0.000000  0.000000  0.000000  0.000000  0.000000  0.000000   \n",
       "exang_1    0.000000  0.000000  0.000000  0.000000  0.000000  0.000000   \n",
       "slope_1    0.000000  0.000000  0.000000  1.000000  0.000000  1.000000   \n",
       "slope_2    1.000000  1.000000  0.000000  0.000000  1.000000  0.000000   \n",
       "ca_1       1.000000  0.000000  0.000000  0.000000  0.000000  0.000000   \n",
       "ca_2       0.000000  1.000000  0.000000  0.000000  0.000000  1.000000   \n",
       "ca_3       0.000000  0.000000  1.000000  1.000000  0.000000  0.000000   \n",
       "ca_4       0.000000  0.000000  0.000000  0.000000  0.000000  0.000000   \n",
       "thal_1     0.000000  0.000000  0.000000  0.000000  0.000000  0.000000   \n",
       "thal_2     1.000000  0.000000  0.000000  0.000000  1.000000  0.000000   \n",
       "thal_3     0.000000  1.000000  1.000000  1.000000  0.000000  1.000000   \n",
       "\n",
       "                193       184  \n",
       "age        0.621330 -0.481558  \n",
       "trestbps   0.763956  1.049520  \n",
       "chol       0.690615 -0.063079  \n",
       "thalach   -0.334401 -0.946628  \n",
       "oldpeak    1.518686  1.346147  \n",
       "sex_1      1.000000  1.000000  \n",
       "cp_1       0.000000  0.000000  \n",
       "cp_2       0.000000  0.000000  \n",
       "cp_3       0.000000  0.000000  \n",
       "fbs_1      0.000000  0.000000  \n",
       "restecg_1  0.000000  0.000000  \n",
       "restecg_2  0.000000  0.000000  \n",
       "exang_1    1.000000  0.000000  \n",
       "slope_1    1.000000  1.000000  \n",
       "slope_2    0.000000  0.000000  \n",
       "ca_1       0.000000  0.000000  \n",
       "ca_2       1.000000  0.000000  \n",
       "ca_3       0.000000  0.000000  \n",
       "ca_4       0.000000  0.000000  \n",
       "thal_1     0.000000  0.000000  \n",
       "thal_2     0.000000  0.000000  \n",
       "thal_3     1.000000  1.000000  \n",
       "\n",
       "[22 rows x 61 columns]"
      ]
     },
     "execution_count": 29,
     "metadata": {},
     "output_type": "execute_result"
    }
   ],
   "source": [
    "x_test.T"
   ]
  },
  {
   "cell_type": "markdown",
   "metadata": {
    "id": "7L4ZqimoEgo6",
    "papermill": {
     "duration": 0.062988,
     "end_time": "2020-11-23T11:32:30.206128",
     "exception": false,
     "start_time": "2020-11-23T11:32:30.143140",
     "status": "completed"
    },
    "tags": []
   },
   "source": [
    "## Program to Show the Model Accuracy Chart"
   ]
  },
  {
   "cell_type": "code",
   "execution_count": 30,
   "metadata": {
    "execution": {
     "iopub.execute_input": "2020-11-23T11:32:30.343813Z",
     "iopub.status.busy": "2020-11-23T11:32:30.342920Z",
     "iopub.status.idle": "2020-11-23T11:32:30.345794Z",
     "shell.execute_reply": "2020-11-23T11:32:30.345340Z"
    },
    "id": "Tq3m7EQ5EfOd",
    "papermill": {
     "duration": 0.076177,
     "end_time": "2020-11-23T11:32:30.345888",
     "exception": false,
     "start_time": "2020-11-23T11:32:30.269711",
     "status": "completed"
    },
    "tags": []
   },
   "outputs": [],
   "source": [
    "from sklearn.metrics import accuracy_score, confusion_matrix, classification_report\n",
    "\n",
    "def print_score(clf, x_train, y_train, x_test, y_test, train=True):\n",
    "    if train:\n",
    "        pred = clf.predict(x_train)\n",
    "        clf_report = pd.DataFrame(classification_report(y_train, pred, output_dict=True))\n",
    "        print(\"Train Result:\\n================================================\")\n",
    "        print(f\"Accuracy Score: {accuracy_score(y_train, pred) * 100:.2f}%\")\n",
    "        print(\"_______________________________________________\")\n",
    "        print(f\"CLASSIFICATION REPORT:\\n{clf_report}\")\n",
    "        print(\"_______________________________________________\")\n",
    "        print(f\"Confusion Matrix: \\n {confusion_matrix(y_train, pred)}\\n\")\n",
    "        \n",
    "    elif train==False:\n",
    "        pred = clf.predict(x_test)\n",
    "        clf_report = pd.DataFrame(classification_report(y_test, pred, output_dict=True))\n",
    "        print(\"Test Result:\\n================================================\")        \n",
    "        print(f\"Accuracy Score: {accuracy_score(y_test, pred) * 100:.2f}%\")\n",
    "        print(\"_______________________________________________\")\n",
    "        print(f\"CLASSIFICATION REPORT:\\n{clf_report}\")\n",
    "        print(\"_______________________________________________\")\n",
    "        print(f\"Confusion Matrix: \\n {confusion_matrix(y_test, pred)}\\n\")"
   ]
  },
  {
   "cell_type": "markdown",
   "metadata": {
    "id": "ogIr82ZYH8eH",
    "papermill": {
     "duration": 0.064671,
     "end_time": "2020-11-23T11:32:30.473549",
     "exception": false,
     "start_time": "2020-11-23T11:32:30.408878",
     "status": "completed"
    },
    "tags": []
   },
   "source": [
    "## Logistic Regression"
   ]
  },
  {
   "cell_type": "code",
   "execution_count": 31,
   "metadata": {
    "execution": {
     "iopub.execute_input": "2020-11-23T11:32:30.613297Z",
     "iopub.status.busy": "2020-11-23T11:32:30.612604Z",
     "iopub.status.idle": "2020-11-23T11:32:30.863420Z",
     "shell.execute_reply": "2020-11-23T11:32:30.862879Z"
    },
    "id": "aqsNLq3L6hIA",
    "outputId": "d81d8d0f-aad8-4efb-c84d-9682f2c712c4",
    "papermill": {
     "duration": 0.321963,
     "end_time": "2020-11-23T11:32:30.863542",
     "exception": false,
     "start_time": "2020-11-23T11:32:30.541579",
     "status": "completed"
    },
    "tags": []
   },
   "outputs": [
    {
     "name": "stdout",
     "output_type": "stream",
     "text": [
      "Test Accuracy 90.16%\n",
      "Train Result:\n",
      "================================================\n",
      "Accuracy Score: 86.78%\n",
      "_______________________________________________\n",
      "CLASSIFICATION REPORT:\n",
      "                    0           1  accuracy   macro avg  weighted avg\n",
      "precision    0.873786    0.863309  0.867769    0.868548      0.868028\n",
      "recall       0.825688    0.902256  0.867769    0.863972      0.867769\n",
      "f1-score     0.849057    0.882353  0.867769    0.865705      0.867356\n",
      "support    109.000000  133.000000  0.867769  242.000000    242.000000\n",
      "_______________________________________________\n",
      "Confusion Matrix: \n",
      " [[ 90  19]\n",
      " [ 13 120]]\n",
      "\n",
      "Test Result:\n",
      "================================================\n",
      "Accuracy Score: 90.16%\n",
      "_______________________________________________\n",
      "CLASSIFICATION REPORT:\n",
      "                   0          1  accuracy  macro avg  weighted avg\n",
      "precision   0.870968   0.933333  0.901639   0.902151      0.903684\n",
      "recall      0.931034   0.875000  0.901639   0.903017      0.901639\n",
      "f1-score    0.900000   0.903226  0.901639   0.901613      0.901692\n",
      "support    29.000000  32.000000  0.901639  61.000000     61.000000\n",
      "_______________________________________________\n",
      "Confusion Matrix: \n",
      " [[27  2]\n",
      " [ 4 28]]\n",
      "\n"
     ]
    }
   ],
   "source": [
    "from sklearn.linear_model import LogisticRegression\n",
    "\n",
    "\n",
    "\n",
    "lr_clf = LogisticRegression()\n",
    "lr_clf.fit(x_train,y_train)\n",
    "lr_score = lr_clf.score(x_test,y_test)*100\n",
    "\n",
    "\n",
    "print(\"Test Accuracy {:.2f}%\".format(lr_score))\n",
    "print_score(lr_clf, x_train, y_train, x_test, y_test, train=True)\n",
    "print_score(lr_clf, x_train, y_train, x_test, y_test, train=False)"
   ]
  },
  {
   "cell_type": "code",
   "execution_count": 32,
   "metadata": {
    "execution": {
     "iopub.execute_input": "2020-11-23T11:32:30.999351Z",
     "iopub.status.busy": "2020-11-23T11:32:30.998451Z",
     "iopub.status.idle": "2020-11-23T11:32:31.002469Z",
     "shell.execute_reply": "2020-11-23T11:32:31.002001Z"
    },
    "papermill": {
     "duration": 0.074044,
     "end_time": "2020-11-23T11:32:31.002569",
     "exception": false,
     "start_time": "2020-11-23T11:32:30.928525",
     "status": "completed"
    },
    "tags": []
   },
   "outputs": [
    {
     "data": {
      "text/plain": [
       "array([[1, 0, 0, 1, 0, 1, 1, 1, 0, 1, 1, 0, 1, 0, 1, 0, 0, 0, 1, 1, 0, 1,\n",
       "        1, 1, 0, 0, 1, 1, 1, 1, 1, 1, 1, 1, 1, 1, 1, 1, 0, 1, 1, 1, 0, 0,\n",
       "        1, 1, 1, 1, 0, 1, 0, 0, 1, 0, 1, 0, 1, 1, 0, 0, 0, 0, 0, 0, 0, 1,\n",
       "        0, 0, 0, 1, 1, 0, 0, 1, 1, 0, 1, 0, 0, 0, 0, 0, 1, 1, 1, 0, 1, 0,\n",
       "        0, 1, 1, 1, 1, 0, 1, 1, 0, 1, 0, 0, 1, 0, 1, 0, 1, 1, 1, 1, 1, 0,\n",
       "        1, 0, 1, 1, 0, 0, 1, 1, 0, 1, 1, 0, 1, 0, 1, 0, 0, 1, 0, 1, 0, 1,\n",
       "        1, 1, 1, 0, 0, 0, 1, 0, 0, 0, 1, 0, 1, 1, 1, 0, 1, 0, 0, 1, 1, 1,\n",
       "        1, 0, 1, 1, 0, 1, 1, 0, 1, 1, 1, 0, 0, 1, 1, 0, 1, 1, 0, 0, 1, 0,\n",
       "        0, 0, 0, 1, 1, 1, 0, 0, 0, 0, 1, 1, 0, 1, 0, 0, 0, 1, 1, 1, 1, 1,\n",
       "        1, 0, 1, 1, 1, 0, 0, 1, 1, 0, 0, 1, 0, 0, 1, 1, 0, 0, 0, 0, 0, 1,\n",
       "        1, 0, 0, 1, 1, 0, 0, 0, 1, 1, 1, 1, 1, 0, 1, 0, 1, 0, 1, 1, 0, 1]])"
      ]
     },
     "execution_count": 32,
     "metadata": {},
     "output_type": "execute_result"
    }
   ],
   "source": [
    "y_train.reshape(1,-1)"
   ]
  },
  {
   "cell_type": "code",
   "execution_count": 33,
   "metadata": {
    "execution": {
     "iopub.execute_input": "2020-11-23T11:32:31.141614Z",
     "iopub.status.busy": "2020-11-23T11:32:31.140813Z",
     "iopub.status.idle": "2020-11-23T11:32:31.152777Z",
     "shell.execute_reply": "2020-11-23T11:32:31.152264Z"
    },
    "id": "gGEidphjG_F5",
    "outputId": "2c7831d7-999d-49e2-bb15-dd6871ceed75",
    "papermill": {
     "duration": 0.085255,
     "end_time": "2020-11-23T11:32:31.152887",
     "exception": false,
     "start_time": "2020-11-23T11:32:31.067632",
     "status": "completed"
    },
    "tags": []
   },
   "outputs": [
    {
     "data": {
      "text/html": [
       "<div>\n",
       "<style scoped>\n",
       "    .dataframe tbody tr th:only-of-type {\n",
       "        vertical-align: middle;\n",
       "    }\n",
       "\n",
       "    .dataframe tbody tr th {\n",
       "        vertical-align: top;\n",
       "    }\n",
       "\n",
       "    .dataframe thead th {\n",
       "        text-align: right;\n",
       "    }\n",
       "</style>\n",
       "<table border=\"1\" class=\"dataframe\">\n",
       "  <thead>\n",
       "    <tr style=\"text-align: right;\">\n",
       "      <th></th>\n",
       "      <th>Model</th>\n",
       "      <th>Testing Accuracy %</th>\n",
       "    </tr>\n",
       "  </thead>\n",
       "  <tbody>\n",
       "    <tr>\n",
       "      <th>0</th>\n",
       "      <td>Logistic Regression</td>\n",
       "      <td>90.163934</td>\n",
       "    </tr>\n",
       "  </tbody>\n",
       "</table>\n",
       "</div>"
      ],
      "text/plain": [
       "                 Model  Testing Accuracy %\n",
       "0  Logistic Regression           90.163934"
      ]
     },
     "execution_count": 33,
     "metadata": {},
     "output_type": "execute_result"
    }
   ],
   "source": [
    "test_score = accuracy_score(y_test, lr_clf.predict(x_test)) * 100\n",
    "results_df = pd.DataFrame(data=[[\"Logistic Regression\", test_score]], \n",
    "                          columns=['Model','Testing Accuracy %'])\n",
    "results_df"
   ]
  },
  {
   "cell_type": "code",
   "execution_count": 34,
   "metadata": {
    "execution": {
     "iopub.execute_input": "2020-11-23T11:32:31.292859Z",
     "iopub.status.busy": "2020-11-23T11:32:31.292053Z",
     "iopub.status.idle": "2020-11-23T11:32:31.296055Z",
     "shell.execute_reply": "2020-11-23T11:32:31.295543Z"
    },
    "id": "xyzup6WcHf9b",
    "outputId": "a9cdeb9c-1f27-414f-f345-7e05447e9224",
    "papermill": {
     "duration": 0.075249,
     "end_time": "2020-11-23T11:32:31.296153",
     "exception": false,
     "start_time": "2020-11-23T11:32:31.220904",
     "status": "completed"
    },
    "tags": []
   },
   "outputs": [
    {
     "data": {
      "text/plain": [
       "array([0, 0, 1, 0, 1, 1, 1, 0, 0, 1, 1, 0, 1, 0, 1, 1, 1, 0, 0, 0, 0, 0,\n",
       "       0, 1, 1, 1, 1, 1, 0, 1, 0, 0, 0, 0, 1, 0, 1, 1, 1, 1, 1, 1, 1, 1,\n",
       "       1, 0, 0, 1, 0, 0, 0, 0, 1, 1, 0, 0, 0, 1, 0, 0, 0])"
      ]
     },
     "execution_count": 34,
     "metadata": {},
     "output_type": "execute_result"
    }
   ],
   "source": [
    "lr_clf.predict(x_test)\n"
   ]
  },
  {
   "cell_type": "markdown",
   "metadata": {
    "id": "n9c6V9jFH-zg",
    "papermill": {
     "duration": 0.065568,
     "end_time": "2020-11-23T11:32:31.431881",
     "exception": false,
     "start_time": "2020-11-23T11:32:31.366313",
     "status": "completed"
    },
    "tags": []
   },
   "source": [
    "## K-nearest neighbors"
   ]
  },
  {
   "cell_type": "code",
   "execution_count": 35,
   "metadata": {
    "execution": {
     "iopub.execute_input": "2020-11-23T11:32:31.582775Z",
     "iopub.status.busy": "2020-11-23T11:32:31.582003Z",
     "iopub.status.idle": "2020-11-23T11:32:31.687764Z",
     "shell.execute_reply": "2020-11-23T11:32:31.687220Z"
    },
    "id": "nnvlm3rjICnw",
    "outputId": "6fe95ad5-a236-4b0e-9028-7606491b73b6",
    "papermill": {
     "duration": 0.183743,
     "end_time": "2020-11-23T11:32:31.687881",
     "exception": false,
     "start_time": "2020-11-23T11:32:31.504138",
     "status": "completed"
    },
    "tags": []
   },
   "outputs": [
    {
     "name": "stdout",
     "output_type": "stream",
     "text": [
      "Test Accuracy 85.25%\n",
      "Train Result:\n",
      "================================================\n",
      "Accuracy Score: 88.84%\n",
      "_______________________________________________\n",
      "CLASSIFICATION REPORT:\n",
      "                    0           1  accuracy   macro avg  weighted avg\n",
      "precision    0.801471    1.000000   0.88843    0.900735      0.910580\n",
      "recall       1.000000    0.796992   0.88843    0.898496      0.888430\n",
      "f1-score     0.889796    0.887029   0.88843    0.888413      0.888275\n",
      "support    109.000000  133.000000   0.88843  242.000000    242.000000\n",
      "_______________________________________________\n",
      "Confusion Matrix: \n",
      " [[109   0]\n",
      " [ 27 106]]\n",
      "\n",
      "Test Result:\n",
      "================================================\n",
      "Accuracy Score: 85.25%\n",
      "_______________________________________________\n",
      "CLASSIFICATION REPORT:\n",
      "                   0          1  accuracy  macro avg  weighted avg\n",
      "precision   0.777778   0.960000  0.852459   0.868889      0.873370\n",
      "recall      0.965517   0.750000  0.852459   0.857759      0.852459\n",
      "f1-score    0.861538   0.842105  0.852459   0.851822      0.851344\n",
      "support    29.000000  32.000000  0.852459  61.000000     61.000000\n",
      "_______________________________________________\n",
      "Confusion Matrix: \n",
      " [[28  1]\n",
      " [ 8 24]]\n",
      "\n"
     ]
    }
   ],
   "source": [
    "from sklearn.neighbors import KNeighborsClassifier\n",
    "\n",
    "knn_clf = KNeighborsClassifier(n_neighbors = 2)\n",
    "knn_clf.fit(x_train, y_train)\n",
    "knn_score = knn_clf.score(x_test,y_test)*100\n",
    "print(\"Test Accuracy {:.2f}%\".format(knn_score))\n",
    "\n",
    "\n",
    "print_score(knn_clf, x_train, y_train, x_test, y_test, train=True)\n",
    "print_score(knn_clf, x_train, y_train, x_test, y_test, train=False)"
   ]
  },
  {
   "cell_type": "code",
   "execution_count": 36,
   "metadata": {
    "execution": {
     "iopub.execute_input": "2020-11-23T11:32:31.829572Z",
     "iopub.status.busy": "2020-11-23T11:32:31.828707Z",
     "iopub.status.idle": "2020-11-23T11:32:31.841271Z",
     "shell.execute_reply": "2020-11-23T11:32:31.841844Z"
    },
    "papermill": {
     "duration": 0.08683,
     "end_time": "2020-11-23T11:32:31.841960",
     "exception": false,
     "start_time": "2020-11-23T11:32:31.755130",
     "status": "completed"
    },
    "tags": []
   },
   "outputs": [
    {
     "data": {
      "text/html": [
       "<div>\n",
       "<style scoped>\n",
       "    .dataframe tbody tr th:only-of-type {\n",
       "        vertical-align: middle;\n",
       "    }\n",
       "\n",
       "    .dataframe tbody tr th {\n",
       "        vertical-align: top;\n",
       "    }\n",
       "\n",
       "    .dataframe thead th {\n",
       "        text-align: right;\n",
       "    }\n",
       "</style>\n",
       "<table border=\"1\" class=\"dataframe\">\n",
       "  <thead>\n",
       "    <tr style=\"text-align: right;\">\n",
       "      <th></th>\n",
       "      <th>Model</th>\n",
       "      <th>Testing Accuracy %</th>\n",
       "    </tr>\n",
       "  </thead>\n",
       "  <tbody>\n",
       "    <tr>\n",
       "      <th>0</th>\n",
       "      <td>Logistic Regression</td>\n",
       "      <td>90.163934</td>\n",
       "    </tr>\n",
       "    <tr>\n",
       "      <th>1</th>\n",
       "      <td>KNeighborsClassifier</td>\n",
       "      <td>85.245902</td>\n",
       "    </tr>\n",
       "  </tbody>\n",
       "</table>\n",
       "</div>"
      ],
      "text/plain": [
       "                  Model  Testing Accuracy %\n",
       "0   Logistic Regression           90.163934\n",
       "1  KNeighborsClassifier           85.245902"
      ]
     },
     "execution_count": 36,
     "metadata": {},
     "output_type": "execute_result"
    }
   ],
   "source": [
    "test_score = accuracy_score(y_test, knn_clf.predict(x_test)) * 100\n",
    "results_df2 = pd.DataFrame(data=[[\"KNeighborsClassifier\", test_score]], \n",
    "                          columns=['Model','Testing Accuracy %'])\n",
    "results_df = results_df.append(results_df2, ignore_index=True)\n",
    "results_df"
   ]
  },
  {
   "cell_type": "code",
   "execution_count": 37,
   "metadata": {
    "execution": {
     "iopub.execute_input": "2020-11-23T11:32:31.989213Z",
     "iopub.status.busy": "2020-11-23T11:32:31.988334Z",
     "iopub.status.idle": "2020-11-23T11:32:32.296928Z",
     "shell.execute_reply": "2020-11-23T11:32:32.296084Z"
    },
    "id": "WTIgojz1J9Fg",
    "outputId": "40086ec9-0b52-4d78-83be-d9351297404e",
    "papermill": {
     "duration": 0.388603,
     "end_time": "2020-11-23T11:32:32.297116",
     "exception": false,
     "start_time": "2020-11-23T11:32:31.908513",
     "status": "completed"
    },
    "tags": []
   },
   "outputs": [
    {
     "data": {
      "image/png": "[encoded data removed]",
      "text/plain": [
       "<Figure size 432x288 with 1 Axes>"
      ]
     },
     "metadata": {
      "needs_background": "light"
     },
     "output_type": "display_data"
    },
    {
     "name": "stdout",
     "output_type": "stream",
     "text": [
      "Maximum KNN Score is 86.89%\n"
     ]
    }
   ],
   "source": [
    "# try ro find best k value\n",
    "scoreList = []\n",
    "for i in range(1,20):\n",
    "    knn2 = KNeighborsClassifier(n_neighbors = i)  # n_neighbors means k\n",
    "    knn2.fit(x_train, y_train)\n",
    "    scoreList.append(knn2.score(x_test, y_test))\n",
    "    \n",
    "plt.plot(range(1,20), scoreList)\n",
    "plt.xticks(np.arange(1,20,1))\n",
    "plt.xlabel(\"K value\")\n",
    "plt.ylabel(\"Score\")\n",
    "plt.show()\n",
    "\n",
    "acc = max(scoreList)*100\n",
    "print(\"Maximum KNN Score is {:.2f}%\".format(acc))"
   ]
  },
  {
   "cell_type": "markdown",
   "metadata": {
    "id": "POyqBHBgItzO",
    "papermill": {
     "duration": 0.06785,
     "end_time": "2020-11-23T11:32:32.439769",
     "exception": false,
     "start_time": "2020-11-23T11:32:32.371919",
     "status": "completed"
    },
    "tags": []
   },
   "source": [
    "## Support Vector machine"
   ]
  },
  {
   "cell_type": "code",
   "execution_count": 38,
   "metadata": {
    "execution": {
     "iopub.execute_input": "2020-11-23T11:32:32.594177Z",
     "iopub.status.busy": "2020-11-23T11:32:32.593218Z",
     "iopub.status.idle": "2020-11-23T11:32:32.630548Z",
     "shell.execute_reply": "2020-11-23T11:32:32.631301Z"
    },
    "id": "LJWWPkr3IrM9",
    "outputId": "bc3eb35a-00bc-4028-9d5d-d13e97d1ce3d",
    "papermill": {
     "duration": 0.121986,
     "end_time": "2020-11-23T11:32:32.631460",
     "exception": false,
     "start_time": "2020-11-23T11:32:32.509474",
     "status": "completed"
    },
    "tags": []
   },
   "outputs": [
    {
     "name": "stdout",
     "output_type": "stream",
     "text": [
      "Test Accuracy 86.89%\n",
      "Train Result:\n",
      "================================================\n",
      "Accuracy Score: 90.50%\n",
      "_______________________________________________\n",
      "CLASSIFICATION REPORT:\n",
      "                    0           1  accuracy   macro avg  weighted avg\n",
      "precision    0.921569    0.892857  0.904959    0.907213      0.905789\n",
      "recall       0.862385    0.939850  0.904959    0.901117      0.904959\n",
      "f1-score     0.890995    0.915751  0.904959    0.903373      0.904601\n",
      "support    109.000000  133.000000  0.904959  242.000000    242.000000\n",
      "_______________________________________________\n",
      "Confusion Matrix: \n",
      " [[ 94  15]\n",
      " [  8 125]]\n",
      "\n",
      "Test Result:\n",
      "================================================\n",
      "Accuracy Score: 86.89%\n",
      "_______________________________________________\n",
      "CLASSIFICATION REPORT:\n",
      "                   0          1  accuracy  macro avg  weighted avg\n",
      "precision   0.818182   0.928571  0.868852   0.873377      0.876091\n",
      "recall      0.931034   0.812500  0.868852   0.871767      0.868852\n",
      "f1-score    0.870968   0.866667  0.868852   0.868817      0.868711\n",
      "support    29.000000  32.000000  0.868852  61.000000     61.000000\n",
      "_______________________________________________\n",
      "Confusion Matrix: \n",
      " [[27  2]\n",
      " [ 6 26]]\n",
      "\n"
     ]
    }
   ],
   "source": [
    "from sklearn.svm import SVC\n",
    "\n",
    "\n",
    "svm_clf = SVC(kernel='rbf', gamma=0.1, C=1.0)\n",
    "svm_clf.fit(x_train, y_train)\n",
    "svm_score = svm_clf.score(x_test,y_test)*100\n",
    "print(\"Test Accuracy {:.2f}%\".format(svm_score))\n",
    "\n",
    "print_score(svm_clf, x_train, y_train, x_test, y_test, train=True)\n",
    "print_score(svm_clf, x_train, y_train, x_test, y_test, train=False)\n"
   ]
  },
  {
   "cell_type": "code",
   "execution_count": 39,
   "metadata": {
    "execution": {
     "iopub.execute_input": "2020-11-23T11:32:32.778840Z",
     "iopub.status.busy": "2020-11-23T11:32:32.777927Z",
     "iopub.status.idle": "2020-11-23T11:32:32.788714Z",
     "shell.execute_reply": "2020-11-23T11:32:32.788187Z"
    },
    "papermill": {
     "duration": 0.086959,
     "end_time": "2020-11-23T11:32:32.788809",
     "exception": false,
     "start_time": "2020-11-23T11:32:32.701850",
     "status": "completed"
    },
    "tags": []
   },
   "outputs": [
    {
     "data": {
      "text/html": [
       "<div>\n",
       "<style scoped>\n",
       "    .dataframe tbody tr th:only-of-type {\n",
       "        vertical-align: middle;\n",
       "    }\n",
       "\n",
       "    .dataframe tbody tr th {\n",
       "        vertical-align: top;\n",
       "    }\n",
       "\n",
       "    .dataframe thead th {\n",
       "        text-align: right;\n",
       "    }\n",
       "</style>\n",
       "<table border=\"1\" class=\"dataframe\">\n",
       "  <thead>\n",
       "    <tr style=\"text-align: right;\">\n",
       "      <th></th>\n",
       "      <th>Model</th>\n",
       "      <th>Testing Accuracy %</th>\n",
       "    </tr>\n",
       "  </thead>\n",
       "  <tbody>\n",
       "    <tr>\n",
       "      <th>0</th>\n",
       "      <td>Logistic Regression</td>\n",
       "      <td>90.163934</td>\n",
       "    </tr>\n",
       "    <tr>\n",
       "      <th>1</th>\n",
       "      <td>KNeighborsClassifier</td>\n",
       "      <td>85.245902</td>\n",
       "    </tr>\n",
       "    <tr>\n",
       "      <th>2</th>\n",
       "      <td>Support Vector Machine</td>\n",
       "      <td>86.885246</td>\n",
       "    </tr>\n",
       "  </tbody>\n",
       "</table>\n",
       "</div>"
      ],
      "text/plain": [
       "                    Model  Testing Accuracy %\n",
       "0     Logistic Regression           90.163934\n",
       "1    KNeighborsClassifier           85.245902\n",
       "2  Support Vector Machine           86.885246"
      ]
     },
     "execution_count": 39,
     "metadata": {},
     "output_type": "execute_result"
    }
   ],
   "source": [
    "test_score = accuracy_score(y_test, svm_clf.predict(x_test)) * 100\n",
    "results_df2 = pd.DataFrame(data=[[\"Support Vector Machine\", test_score]], \n",
    "                          columns=['Model','Testing Accuracy %'])\n",
    "results_df = results_df.append(results_df2, ignore_index=True)\n",
    "results_df"
   ]
  },
  {
   "cell_type": "markdown",
   "metadata": {
    "id": "Y0HGnN0BLHf1",
    "papermill": {
     "duration": 0.069414,
     "end_time": "2020-11-23T11:32:32.927588",
     "exception": false,
     "start_time": "2020-11-23T11:32:32.858174",
     "status": "completed"
    },
    "tags": []
   },
   "source": [
    "## Decision Tree Classifier"
   ]
  },
  {
   "cell_type": "code",
   "execution_count": 40,
   "metadata": {
    "execution": {
     "iopub.execute_input": "2020-11-23T11:32:33.076848Z",
     "iopub.status.busy": "2020-11-23T11:32:33.075958Z",
     "iopub.status.idle": "2020-11-23T11:32:33.136642Z",
     "shell.execute_reply": "2020-11-23T11:32:33.136069Z"
    },
    "id": "Z9Eqs7afLGyI",
    "outputId": "52280ef9-f084-49ed-ba46-541c72f1be11",
    "papermill": {
     "duration": 0.139914,
     "end_time": "2020-11-23T11:32:33.136834",
     "exception": false,
     "start_time": "2020-11-23T11:32:32.996920",
     "status": "completed"
    },
    "tags": []
   },
   "outputs": [
    {
     "name": "stdout",
     "output_type": "stream",
     "text": [
      "Test Accuracy 72.13%\n",
      "Train Result:\n",
      "================================================\n",
      "Accuracy Score: 100.00%\n",
      "_______________________________________________\n",
      "CLASSIFICATION REPORT:\n",
      "               0      1  accuracy  macro avg  weighted avg\n",
      "precision    1.0    1.0       1.0        1.0           1.0\n",
      "recall       1.0    1.0       1.0        1.0           1.0\n",
      "f1-score     1.0    1.0       1.0        1.0           1.0\n",
      "support    109.0  133.0       1.0      242.0         242.0\n",
      "_______________________________________________\n",
      "Confusion Matrix: \n",
      " [[109   0]\n",
      " [  0 133]]\n",
      "\n",
      "Test Result:\n",
      "================================================\n",
      "Accuracy Score: 72.13%\n",
      "_______________________________________________\n",
      "CLASSIFICATION REPORT:\n",
      "                   0          1  accuracy  macro avg  weighted avg\n",
      "precision   0.676471   0.777778  0.721311   0.727124      0.729615\n",
      "recall      0.793103   0.656250  0.721311   0.724677      0.721311\n",
      "f1-score    0.730159   0.711864  0.721311   0.721012      0.720562\n",
      "support    29.000000  32.000000  0.721311  61.000000     61.000000\n",
      "_______________________________________________\n",
      "Confusion Matrix: \n",
      " [[23  6]\n",
      " [11 21]]\n",
      "\n"
     ]
    }
   ],
   "source": [
    "from sklearn.tree import DecisionTreeClassifier\n",
    "\n",
    "\n",
    "tree_clf = DecisionTreeClassifier(random_state=42)\n",
    "tree_clf.fit(x_train, y_train)\n",
    "tree_score  = tree_clf .score(x_test,y_test)*100\n",
    "print(\"Test Accuracy {:.2f}%\".format(tree_score ))\n",
    "\n",
    "print_score(tree_clf, x_train, y_train, x_test, y_test, train=True)\n",
    "print_score(tree_clf, x_train, y_train, x_test, y_test, train=False)\n"
   ]
  },
  {
   "cell_type": "code",
   "execution_count": 41,
   "metadata": {
    "execution": {
     "iopub.execute_input": "2020-11-23T11:32:33.299955Z",
     "iopub.status.busy": "2020-11-23T11:32:33.298826Z",
     "iopub.status.idle": "2020-11-23T11:32:33.304515Z",
     "shell.execute_reply": "2020-11-23T11:32:33.303919Z"
    },
    "papermill": {
     "duration": 0.096491,
     "end_time": "2020-11-23T11:32:33.304621",
     "exception": false,
     "start_time": "2020-11-23T11:32:33.208130",
     "status": "completed"
    },
    "tags": []
   },
   "outputs": [
    {
     "data": {
      "text/html": [
       "<div>\n",
       "<style scoped>\n",
       "    .dataframe tbody tr th:only-of-type {\n",
       "        vertical-align: middle;\n",
       "    }\n",
       "\n",
       "    .dataframe tbody tr th {\n",
       "        vertical-align: top;\n",
       "    }\n",
       "\n",
       "    .dataframe thead th {\n",
       "        text-align: right;\n",
       "    }\n",
       "</style>\n",
       "<table border=\"1\" class=\"dataframe\">\n",
       "  <thead>\n",
       "    <tr style=\"text-align: right;\">\n",
       "      <th></th>\n",
       "      <th>Model</th>\n",
       "      <th>Testing Accuracy %</th>\n",
       "    </tr>\n",
       "  </thead>\n",
       "  <tbody>\n",
       "    <tr>\n",
       "      <th>0</th>\n",
       "      <td>Logistic Regression</td>\n",
       "      <td>90.163934</td>\n",
       "    </tr>\n",
       "    <tr>\n",
       "      <th>1</th>\n",
       "      <td>KNeighborsClassifier</td>\n",
       "      <td>85.245902</td>\n",
       "    </tr>\n",
       "    <tr>\n",
       "      <th>2</th>\n",
       "      <td>Support Vector Machine</td>\n",
       "      <td>86.885246</td>\n",
       "    </tr>\n",
       "    <tr>\n",
       "      <th>3</th>\n",
       "      <td>Decision Tree Classifier</td>\n",
       "      <td>72.131148</td>\n",
       "    </tr>\n",
       "  </tbody>\n",
       "</table>\n",
       "</div>"
      ],
      "text/plain": [
       "                      Model  Testing Accuracy %\n",
       "0       Logistic Regression           90.163934\n",
       "1      KNeighborsClassifier           85.245902\n",
       "2    Support Vector Machine           86.885246\n",
       "3  Decision Tree Classifier           72.131148"
      ]
     },
     "execution_count": 41,
     "metadata": {},
     "output_type": "execute_result"
    }
   ],
   "source": [
    "test_score = accuracy_score(y_test, tree_clf.predict(x_test)) * 100\n",
    "results_df2 = pd.DataFrame(data=[[\"Decision Tree Classifier\", test_score]], \n",
    "                          columns=['Model','Testing Accuracy %'])\n",
    "results_df = results_df.append(results_df2, ignore_index=True)\n",
    "results_df"
   ]
  },
  {
   "cell_type": "markdown",
   "metadata": {
    "id": "vFcH9cT6Ldi2",
    "papermill": {
     "duration": 0.072718,
     "end_time": "2020-11-23T11:32:33.457563",
     "exception": false,
     "start_time": "2020-11-23T11:32:33.384845",
     "status": "completed"
    },
    "tags": []
   },
   "source": [
    "## Random Forest"
   ]
  },
  {
   "cell_type": "code",
   "execution_count": 42,
   "metadata": {
    "execution": {
     "iopub.execute_input": "2020-11-23T11:32:33.612328Z",
     "iopub.status.busy": "2020-11-23T11:32:33.611549Z",
     "iopub.status.idle": "2020-11-23T11:32:36.328762Z",
     "shell.execute_reply": "2020-11-23T11:32:36.329557Z"
    },
    "id": "Zs1EQLIDLejK",
    "outputId": "0e548785-60d1-4ea6-92ed-a76d08354878",
    "papermill": {
     "duration": 2.79599,
     "end_time": "2020-11-23T11:32:36.329692",
     "exception": false,
     "start_time": "2020-11-23T11:32:33.533702",
     "status": "completed"
    },
    "tags": []
   },
   "outputs": [
    {
     "name": "stdout",
     "output_type": "stream",
     "text": [
      "Test Accuracy 85.25%\n",
      "Train Result:\n",
      "================================================\n",
      "Accuracy Score: 100.00%\n",
      "_______________________________________________\n",
      "CLASSIFICATION REPORT:\n",
      "               0      1  accuracy  macro avg  weighted avg\n",
      "precision    1.0    1.0       1.0        1.0           1.0\n",
      "recall       1.0    1.0       1.0        1.0           1.0\n",
      "f1-score     1.0    1.0       1.0        1.0           1.0\n",
      "support    109.0  133.0       1.0      242.0         242.0\n",
      "_______________________________________________\n",
      "Confusion Matrix: \n",
      " [[109   0]\n",
      " [  0 133]]\n",
      "\n",
      "Test Result:\n",
      "================================================\n",
      "Accuracy Score: 85.25%\n",
      "_______________________________________________\n",
      "CLASSIFICATION REPORT:\n",
      "                   0          1  accuracy  macro avg  weighted avg\n",
      "precision   0.812500   0.896552  0.852459   0.854526      0.856593\n",
      "recall      0.896552   0.812500  0.852459   0.854526      0.852459\n",
      "f1-score    0.852459   0.852459  0.852459   0.852459      0.852459\n",
      "support    29.000000  32.000000  0.852459  61.000000     61.000000\n",
      "_______________________________________________\n",
      "Confusion Matrix: \n",
      " [[26  3]\n",
      " [ 6 26]]\n",
      "\n"
     ]
    }
   ],
   "source": [
    "from sklearn.ensemble import RandomForestClassifier\n",
    "\n",
    "\n",
    "rf_clf = RandomForestClassifier(n_estimators=1000, random_state=42)\n",
    "rf_clf.fit(x_train, y_train)\n",
    "rf_score  = rf_clf.score(x_test,y_test)*100\n",
    "print(\"Test Accuracy {:.2f}%\".format(rf_score ))\n",
    "\n",
    "print_score(rf_clf, x_train, y_train, x_test, y_test, train=True)\n",
    "print_score(rf_clf, x_train, y_train, x_test, y_test, train=False)"
   ]
  },
  {
   "cell_type": "code",
   "execution_count": 43,
   "metadata": {
    "execution": {
     "iopub.execute_input": "2020-11-23T11:32:36.532412Z",
     "iopub.status.busy": "2020-11-23T11:32:36.531278Z",
     "iopub.status.idle": "2020-11-23T11:32:36.616908Z",
     "shell.execute_reply": "2020-11-23T11:32:36.617433Z"
    },
    "papermill": {
     "duration": 0.213867,
     "end_time": "2020-11-23T11:32:36.617571",
     "exception": false,
     "start_time": "2020-11-23T11:32:36.403704",
     "status": "completed"
    },
    "tags": []
   },
   "outputs": [
    {
     "data": {
      "text/html": [
       "<div>\n",
       "<style scoped>\n",
       "    .dataframe tbody tr th:only-of-type {\n",
       "        vertical-align: middle;\n",
       "    }\n",
       "\n",
       "    .dataframe tbody tr th {\n",
       "        vertical-align: top;\n",
       "    }\n",
       "\n",
       "    .dataframe thead th {\n",
       "        text-align: right;\n",
       "    }\n",
       "</style>\n",
       "<table border=\"1\" class=\"dataframe\">\n",
       "  <thead>\n",
       "    <tr style=\"text-align: right;\">\n",
       "      <th></th>\n",
       "      <th>Model</th>\n",
       "      <th>Testing Accuracy %</th>\n",
       "    </tr>\n",
       "  </thead>\n",
       "  <tbody>\n",
       "    <tr>\n",
       "      <th>0</th>\n",
       "      <td>Logistic Regression</td>\n",
       "      <td>90.163934</td>\n",
       "    </tr>\n",
       "    <tr>\n",
       "      <th>1</th>\n",
       "      <td>KNeighborsClassifier</td>\n",
       "      <td>85.245902</td>\n",
       "    </tr>\n",
       "    <tr>\n",
       "      <th>2</th>\n",
       "      <td>Support Vector Machine</td>\n",
       "      <td>86.885246</td>\n",
       "    </tr>\n",
       "    <tr>\n",
       "      <th>3</th>\n",
       "      <td>Decision Tree Classifier</td>\n",
       "      <td>72.131148</td>\n",
       "    </tr>\n",
       "    <tr>\n",
       "      <th>4</th>\n",
       "      <td>Random Forest Classifier</td>\n",
       "      <td>85.245902</td>\n",
       "    </tr>\n",
       "  </tbody>\n",
       "</table>\n",
       "</div>"
      ],
      "text/plain": [
       "                      Model  Testing Accuracy %\n",
       "0       Logistic Regression           90.163934\n",
       "1      KNeighborsClassifier           85.245902\n",
       "2    Support Vector Machine           86.885246\n",
       "3  Decision Tree Classifier           72.131148\n",
       "4  Random Forest Classifier           85.245902"
      ]
     },
     "execution_count": 43,
     "metadata": {},
     "output_type": "execute_result"
    }
   ],
   "source": [
    "test_score = accuracy_score(y_test, rf_clf.predict(x_test)) * 100\n",
    "results_df2 = pd.DataFrame(data=[[\"Random Forest Classifier\", test_score]], \n",
    "                          columns=['Model','Testing Accuracy %'])\n",
    "results_df = results_df.append(results_df2, ignore_index=True)\n",
    "results_df"
   ]
  },
  {
   "cell_type": "markdown",
   "metadata": {
    "id": "j2on3IoQL_n9",
    "papermill": {
     "duration": 0.074145,
     "end_time": "2020-11-23T11:32:36.765084",
     "exception": false,
     "start_time": "2020-11-23T11:32:36.690939",
     "status": "completed"
    },
    "tags": []
   },
   "source": [
    "## XGBoost Classifer"
   ]
  },
  {
   "cell_type": "code",
   "execution_count": 44,
   "metadata": {
    "execution": {
     "iopub.execute_input": "2020-11-23T11:32:36.916579Z",
     "iopub.status.busy": "2020-11-23T11:32:36.915921Z",
     "iopub.status.idle": "2020-11-23T11:32:41.597560Z",
     "shell.execute_reply": "2020-11-23T11:32:41.598270Z"
    },
    "id": "3K3LGaY8MAsL",
    "outputId": "6f431106-c955-427b-8cbb-d5c967e80888",
    "papermill": {
     "duration": 4.761153,
     "end_time": "2020-11-23T11:32:41.598412",
     "exception": false,
     "start_time": "2020-11-23T11:32:36.837259",
     "status": "completed"
    },
    "tags": []
   },
   "outputs": [
    {
     "name": "stdout",
     "output_type": "stream",
     "text": [
      "Test Accuracy 83.61%\n",
      "Train Result:\n",
      "================================================\n",
      "Accuracy Score: 100.00%\n",
      "_______________________________________________\n",
      "CLASSIFICATION REPORT:\n",
      "               0      1  accuracy  macro avg  weighted avg\n",
      "precision    1.0    1.0       1.0        1.0           1.0\n",
      "recall       1.0    1.0       1.0        1.0           1.0\n",
      "f1-score     1.0    1.0       1.0        1.0           1.0\n",
      "support    109.0  133.0       1.0      242.0         242.0\n",
      "_______________________________________________\n",
      "Confusion Matrix: \n",
      " [[109   0]\n",
      " [  0 133]]\n",
      "\n",
      "Test Result:\n",
      "================================================\n",
      "Accuracy Score: 83.61%\n",
      "_______________________________________________\n",
      "CLASSIFICATION REPORT:\n",
      "                   0          1  accuracy  macro avg  weighted avg\n",
      "precision   0.787879   0.892857  0.836066   0.840368      0.842949\n",
      "recall      0.896552   0.781250  0.836066   0.838901      0.836066\n",
      "f1-score    0.838710   0.833333  0.836066   0.836022      0.835889\n",
      "support    29.000000  32.000000  0.836066  61.000000     61.000000\n",
      "_______________________________________________\n",
      "Confusion Matrix: \n",
      " [[26  3]\n",
      " [ 7 25]]\n",
      "\n"
     ]
    }
   ],
   "source": [
    "from xgboost import XGBClassifier\n",
    "\n",
    "xgb_clf = XGBClassifier()\n",
    "xgb_clf.fit(x_train, y_train)\n",
    "xgb_score  = xgb_clf.score(x_test,y_test)*100\n",
    "print(\"Test Accuracy {:.2f}%\".format(xgb_score ))\n",
    "\n",
    "print_score(xgb_clf, x_train, y_train, x_test, y_test, train=True)\n",
    "print_score(xgb_clf, x_train, y_train, x_test, y_test, train=False)"
   ]
  },
  {
   "cell_type": "code",
   "execution_count": 45,
   "metadata": {
    "execution": {
     "iopub.execute_input": "2020-11-23T11:32:41.825072Z",
     "iopub.status.busy": "2020-11-23T11:32:41.824361Z",
     "iopub.status.idle": "2020-11-23T11:32:42.003456Z",
     "shell.execute_reply": "2020-11-23T11:32:42.003951Z"
    },
    "papermill": {
     "duration": 0.315034,
     "end_time": "2020-11-23T11:32:42.004108",
     "exception": false,
     "start_time": "2020-11-23T11:32:41.689074",
     "status": "completed"
    },
    "tags": []
   },
   "outputs": [
    {
     "ename": "NameError",
     "evalue": "name 'nb' is not defined",
     "output_type": "error",
     "traceback": [
      "\u001b[0;31m---------------------------------------------------------------------------\u001b[0m",
      "\u001b[0;31mNameError\u001b[0m                                 Traceback (most recent call last)",
      "\u001b[0;32m<ipython-input-45-e67dc9d828dd>\u001b[0m in \u001b[0;36m<module>\u001b[0;34m\u001b[0m\n\u001b[0;32m----> 1\u001b[0;31m \u001b[0mtest_score\u001b[0m \u001b[0;34m=\u001b[0m \u001b[0maccuracy_score\u001b[0m\u001b[0;34m(\u001b[0m\u001b[0my_test\u001b[0m\u001b[0;34m,\u001b[0m \u001b[0mnb\u001b[0m\u001b[0;34m.\u001b[0m\u001b[0mpredict\u001b[0m\u001b[0;34m(\u001b[0m\u001b[0mx_test\u001b[0m\u001b[0;34m)\u001b[0m\u001b[0;34m)\u001b[0m \u001b[0;34m*\u001b[0m \u001b[0;36m100\u001b[0m\u001b[0;34m\u001b[0m\u001b[0;34m\u001b[0m\u001b[0m\n\u001b[0m\u001b[1;32m      2\u001b[0m results_df2 = pd.DataFrame(data=[[\"XGB Classifier\", test_score]], \n\u001b[1;32m      3\u001b[0m                           columns=['Model','Testing Accuracy %'])\n\u001b[1;32m      4\u001b[0m \u001b[0mresults_df\u001b[0m \u001b[0;34m=\u001b[0m \u001b[0mresults_df\u001b[0m\u001b[0;34m.\u001b[0m\u001b[0mappend\u001b[0m\u001b[0;34m(\u001b[0m\u001b[0mresults_df2\u001b[0m\u001b[0;34m,\u001b[0m \u001b[0mignore_index\u001b[0m\u001b[0;34m=\u001b[0m\u001b[0;32mTrue\u001b[0m\u001b[0;34m)\u001b[0m\u001b[0;34m\u001b[0m\u001b[0;34m\u001b[0m\u001b[0m\n\u001b[1;32m      5\u001b[0m \u001b[0mresults_df\u001b[0m\u001b[0;34m\u001b[0m\u001b[0;34m\u001b[0m\u001b[0m\n",
      "\u001b[0;31mNameError\u001b[0m: name 'nb' is not defined"
     ]
    }
   ],
   "source": [
    "test_score = accuracy_score(y_test, nb.predict(x_test)) * 100\n",
    "results_df2 = pd.DataFrame(data=[[\"XGB Classifier\", test_score]], \n",
    "                          columns=['Model','Testing Accuracy %'])\n",
    "results_df = results_df.append(results_df2, ignore_index=True)\n",
    "results_df"
   ]
  },
  {
   "cell_type": "markdown",
   "metadata": {
    "id": "QZEmDwsuMRh_",
    "papermill": {
     "duration": 0.073834,
     "end_time": "2020-11-23T11:32:42.154668",
     "exception": false,
     "start_time": "2020-11-23T11:32:42.080834",
     "status": "completed"
    },
    "tags": []
   },
   "source": [
    "## Naive Bayes Algorithm"
   ]
  },
  {
   "cell_type": "code",
   "execution_count": 46,
   "metadata": {
    "execution": {
     "iopub.execute_input": "2020-11-23T11:32:42.324188Z",
     "iopub.status.busy": "2020-11-23T11:32:42.323100Z",
     "iopub.status.idle": "2020-11-23T11:32:42.369256Z",
     "shell.execute_reply": "2020-11-23T11:32:42.368076Z"
    },
    "id": "_RJjeiMuMSZs",
    "outputId": "b788a41f-6d45-4112-981b-b41b9680e0a4",
    "papermill": {
     "duration": 0.13866,
     "end_time": "2020-11-23T11:32:42.369384",
     "exception": false,
     "start_time": "2020-11-23T11:32:42.230724",
     "status": "completed"
    },
    "tags": []
   },
   "outputs": [
    {
     "name": "stdout",
     "output_type": "stream",
     "text": [
      "Accuracy of Naive Bayes: 65.57%\n",
      "Train Result:\n",
      "================================================\n",
      "Accuracy Score: 71.07%\n",
      "_______________________________________________\n",
      "CLASSIFICATION REPORT:\n",
      "                    0           1  accuracy   macro avg  weighted avg\n",
      "precision    0.612717    0.956522  0.710744    0.784619      0.801667\n",
      "recall       0.972477    0.496241  0.710744    0.734359      0.710744\n",
      "f1-score     0.751773    0.653465  0.710744    0.702619      0.697744\n",
      "support    109.000000  133.000000  0.710744  242.000000    242.000000\n",
      "_______________________________________________\n",
      "Confusion Matrix: \n",
      " [[106   3]\n",
      " [ 67  66]]\n",
      "\n",
      "Test Result:\n",
      "================================================\n",
      "Accuracy Score: 65.57%\n",
      "_______________________________________________\n",
      "CLASSIFICATION REPORT:\n",
      "                   0          1  accuracy  macro avg  weighted avg\n",
      "precision   0.586957   0.866667  0.655738   0.726812      0.733690\n",
      "recall      0.931034   0.406250  0.655738   0.668642      0.655738\n",
      "f1-score    0.720000   0.553191  0.655738   0.636596      0.632494\n",
      "support    29.000000  32.000000  0.655738  61.000000     61.000000\n",
      "_______________________________________________\n",
      "Confusion Matrix: \n",
      " [[27  2]\n",
      " [19 13]]\n",
      "\n"
     ]
    }
   ],
   "source": [
    "from sklearn.naive_bayes import GaussianNB\n",
    "nb = GaussianNB()\n",
    "nb.fit(x_train, y_train)\n",
    "\n",
    "nb_score = nb.score(x_test,y_test)*100\n",
    "print(\"Accuracy of Naive Bayes: {:.2f}%\".format(nb_score))\n",
    "\n",
    "print_score(nb, x_train, y_train, x_test, y_test, train=True)\n",
    "print_score(nb, x_train, y_train, x_test, y_test, train=False)"
   ]
  },
  {
   "cell_type": "code",
   "execution_count": 47,
   "metadata": {
    "execution": {
     "iopub.execute_input": "2020-11-23T11:32:42.558474Z",
     "iopub.status.busy": "2020-11-23T11:32:42.557477Z",
     "iopub.status.idle": "2020-11-23T11:32:42.561301Z",
     "shell.execute_reply": "2020-11-23T11:32:42.561865Z"
    },
    "papermill": {
     "duration": 0.105373,
     "end_time": "2020-11-23T11:32:42.562030",
     "exception": false,
     "start_time": "2020-11-23T11:32:42.456657",
     "status": "completed"
    },
    "tags": []
   },
   "outputs": [
    {
     "data": {
      "text/html": [
       "<div>\n",
       "<style scoped>\n",
       "    .dataframe tbody tr th:only-of-type {\n",
       "        vertical-align: middle;\n",
       "    }\n",
       "\n",
       "    .dataframe tbody tr th {\n",
       "        vertical-align: top;\n",
       "    }\n",
       "\n",
       "    .dataframe thead th {\n",
       "        text-align: right;\n",
       "    }\n",
       "</style>\n",
       "<table border=\"1\" class=\"dataframe\">\n",
       "  <thead>\n",
       "    <tr style=\"text-align: right;\">\n",
       "      <th></th>\n",
       "      <th>Model</th>\n",
       "      <th>Testing Accuracy %</th>\n",
       "    </tr>\n",
       "  </thead>\n",
       "  <tbody>\n",
       "    <tr>\n",
       "      <th>0</th>\n",
       "      <td>Logistic Regression</td>\n",
       "      <td>90.163934</td>\n",
       "    </tr>\n",
       "    <tr>\n",
       "      <th>1</th>\n",
       "      <td>KNeighborsClassifier</td>\n",
       "      <td>85.245902</td>\n",
       "    </tr>\n",
       "    <tr>\n",
       "      <th>2</th>\n",
       "      <td>Support Vector Machine</td>\n",
       "      <td>86.885246</td>\n",
       "    </tr>\n",
       "    <tr>\n",
       "      <th>3</th>\n",
       "      <td>Decision Tree Classifier</td>\n",
       "      <td>72.131148</td>\n",
       "    </tr>\n",
       "    <tr>\n",
       "      <th>4</th>\n",
       "      <td>Random Forest Classifier</td>\n",
       "      <td>85.245902</td>\n",
       "    </tr>\n",
       "    <tr>\n",
       "      <th>5</th>\n",
       "      <td>Naive Bias Classifier</td>\n",
       "      <td>65.573770</td>\n",
       "    </tr>\n",
       "  </tbody>\n",
       "</table>\n",
       "</div>"
      ],
      "text/plain": [
       "                      Model  Testing Accuracy %\n",
       "0       Logistic Regression           90.163934\n",
       "1      KNeighborsClassifier           85.245902\n",
       "2    Support Vector Machine           86.885246\n",
       "3  Decision Tree Classifier           72.131148\n",
       "4  Random Forest Classifier           85.245902\n",
       "5     Naive Bias Classifier           65.573770"
      ]
     },
     "execution_count": 47,
     "metadata": {},
     "output_type": "execute_result"
    }
   ],
   "source": [
    "test_score = accuracy_score(y_test, nb.predict(x_test)) * 100\n",
    "results_df2 = pd.DataFrame(data=[[\"Naive Bias Classifier\", test_score]], \n",
    "                          columns=['Model','Testing Accuracy %'])\n",
    "results_df = results_df.append(results_df2, ignore_index=True)\n",
    "results_df"
   ]
  },
  {
   "cell_type": "markdown",
   "metadata": {
    "id": "h622xawPOWTh",
    "papermill": {
     "duration": 0.079878,
     "end_time": "2020-11-23T11:32:42.721780",
     "exception": false,
     "start_time": "2020-11-23T11:32:42.641902",
     "status": "completed"
    },
    "tags": []
   },
   "source": [
    "## Comparison Model"
   ]
  },
  {
   "cell_type": "code",
   "execution_count": 48,
   "metadata": {
    "execution": {
     "iopub.execute_input": "2020-11-23T11:32:42.909348Z",
     "iopub.status.busy": "2020-11-23T11:32:42.908288Z",
     "iopub.status.idle": "2020-11-23T11:32:43.229169Z",
     "shell.execute_reply": "2020-11-23T11:32:43.228232Z"
    },
    "id": "6OdQQVdGOYvD",
    "outputId": "0749126b-c4cb-4d69-97dc-a2290af9df89",
    "papermill": {
     "duration": 0.425159,
     "end_time": "2020-11-23T11:32:43.229323",
     "exception": false,
     "start_time": "2020-11-23T11:32:42.804164",
     "status": "completed"
    },
    "tags": []
   },
   "outputs": [
    {
     "ename": "TypeError",
     "evalue": "float() argument must be a string or a number, not 'LogisticRegression'",
     "output_type": "error",
     "traceback": [
      "\u001b[0;31m---------------------------------------------------------------------------\u001b[0m",
      "\u001b[0;31mTypeError\u001b[0m                                 Traceback (most recent call last)",
      "\u001b[0;32m<ipython-input-48-9ea969582995>\u001b[0m in \u001b[0;36m<module>\u001b[0;34m\u001b[0m\n\u001b[1;32m     14\u001b[0m \u001b[0mplt\u001b[0m\u001b[0;34m.\u001b[0m\u001b[0mylabel\u001b[0m\u001b[0;34m(\u001b[0m\u001b[0;34m\"Accuracy %\"\u001b[0m\u001b[0;34m)\u001b[0m\u001b[0;34m\u001b[0m\u001b[0;34m\u001b[0m\u001b[0m\n\u001b[1;32m     15\u001b[0m \u001b[0mplt\u001b[0m\u001b[0;34m.\u001b[0m\u001b[0mxlabel\u001b[0m\u001b[0;34m(\u001b[0m\u001b[0;34m\"Algorithms\"\u001b[0m\u001b[0;34m)\u001b[0m\u001b[0;34m\u001b[0m\u001b[0;34m\u001b[0m\u001b[0m\n\u001b[0;32m---> 16\u001b[0;31m \u001b[0msns\u001b[0m\u001b[0;34m.\u001b[0m\u001b[0mbarplot\u001b[0m\u001b[0;34m(\u001b[0m\u001b[0mx\u001b[0m\u001b[0;34m=\u001b[0m\u001b[0mlist\u001b[0m\u001b[0;34m(\u001b[0m\u001b[0maccuracies\u001b[0m\u001b[0;34m.\u001b[0m\u001b[0mkeys\u001b[0m\u001b[0;34m(\u001b[0m\u001b[0;34m)\u001b[0m\u001b[0;34m)\u001b[0m\u001b[0;34m,\u001b[0m \u001b[0my\u001b[0m\u001b[0;34m=\u001b[0m\u001b[0mlist\u001b[0m\u001b[0;34m(\u001b[0m\u001b[0maccuracies\u001b[0m\u001b[0;34m.\u001b[0m\u001b[0mvalues\u001b[0m\u001b[0;34m(\u001b[0m\u001b[0;34m)\u001b[0m\u001b[0;34m)\u001b[0m\u001b[0;34m,\u001b[0m \u001b[0mpalette\u001b[0m\u001b[0;34m=\u001b[0m\u001b[0mcolors\u001b[0m\u001b[0;34m)\u001b[0m\u001b[0;34m\u001b[0m\u001b[0;34m\u001b[0m\u001b[0m\n\u001b[0m\u001b[1;32m     17\u001b[0m \u001b[0mplt\u001b[0m\u001b[0;34m.\u001b[0m\u001b[0mshow\u001b[0m\u001b[0;34m(\u001b[0m\u001b[0;34m)\u001b[0m\u001b[0;34m\u001b[0m\u001b[0;34m\u001b[0m\u001b[0m\n",
      "\u001b[0;32m/opt/conda/lib/python3.7/site-packages/seaborn/categorical.py\u001b[0m in \u001b[0;36mbarplot\u001b[0;34m(x, y, hue, data, order, hue_order, estimator, ci, n_boot, units, seed, orient, color, palette, saturation, errcolor, errwidth, capsize, dodge, ax, **kwargs)\u001b[0m\n\u001b[1;32m   3148\u001b[0m                           \u001b[0mestimator\u001b[0m\u001b[0;34m,\u001b[0m \u001b[0mci\u001b[0m\u001b[0;34m,\u001b[0m \u001b[0mn_boot\u001b[0m\u001b[0;34m,\u001b[0m \u001b[0munits\u001b[0m\u001b[0;34m,\u001b[0m \u001b[0mseed\u001b[0m\u001b[0;34m,\u001b[0m\u001b[0;34m\u001b[0m\u001b[0;34m\u001b[0m\u001b[0m\n\u001b[1;32m   3149\u001b[0m                           \u001b[0morient\u001b[0m\u001b[0;34m,\u001b[0m \u001b[0mcolor\u001b[0m\u001b[0;34m,\u001b[0m \u001b[0mpalette\u001b[0m\u001b[0;34m,\u001b[0m \u001b[0msaturation\u001b[0m\u001b[0;34m,\u001b[0m\u001b[0;34m\u001b[0m\u001b[0;34m\u001b[0m\u001b[0m\n\u001b[0;32m-> 3150\u001b[0;31m                           errcolor, errwidth, capsize, dodge)\n\u001b[0m\u001b[1;32m   3151\u001b[0m \u001b[0;34m\u001b[0m\u001b[0m\n\u001b[1;32m   3152\u001b[0m     \u001b[0;32mif\u001b[0m \u001b[0max\u001b[0m \u001b[0;32mis\u001b[0m \u001b[0;32mNone\u001b[0m\u001b[0;34m:\u001b[0m\u001b[0;34m\u001b[0m\u001b[0;34m\u001b[0m\u001b[0m\n",
      "\u001b[0;32m/opt/conda/lib/python3.7/site-packages/seaborn/categorical.py\u001b[0m in \u001b[0;36m__init__\u001b[0;34m(self, x, y, hue, data, order, hue_order, estimator, ci, n_boot, units, seed, orient, color, palette, saturation, errcolor, errwidth, capsize, dodge)\u001b[0m\n\u001b[1;32m   1613\u001b[0m         \u001b[0;34m\"\"\"Initialize the plotter.\"\"\"\u001b[0m\u001b[0;34m\u001b[0m\u001b[0;34m\u001b[0m\u001b[0m\n\u001b[1;32m   1614\u001b[0m         self.establish_variables(x, y, hue, data, orient,\n\u001b[0;32m-> 1615\u001b[0;31m                                  order, hue_order, units)\n\u001b[0m\u001b[1;32m   1616\u001b[0m         \u001b[0mself\u001b[0m\u001b[0;34m.\u001b[0m\u001b[0mestablish_colors\u001b[0m\u001b[0;34m(\u001b[0m\u001b[0mcolor\u001b[0m\u001b[0;34m,\u001b[0m \u001b[0mpalette\u001b[0m\u001b[0;34m,\u001b[0m \u001b[0msaturation\u001b[0m\u001b[0;34m)\u001b[0m\u001b[0;34m\u001b[0m\u001b[0;34m\u001b[0m\u001b[0m\n\u001b[1;32m   1617\u001b[0m         \u001b[0mself\u001b[0m\u001b[0;34m.\u001b[0m\u001b[0mestimate_statistic\u001b[0m\u001b[0;34m(\u001b[0m\u001b[0mestimator\u001b[0m\u001b[0;34m,\u001b[0m \u001b[0mci\u001b[0m\u001b[0;34m,\u001b[0m \u001b[0mn_boot\u001b[0m\u001b[0;34m,\u001b[0m \u001b[0mseed\u001b[0m\u001b[0;34m)\u001b[0m\u001b[0;34m\u001b[0m\u001b[0;34m\u001b[0m\u001b[0m\n",
      "\u001b[0;32m/opt/conda/lib/python3.7/site-packages/seaborn/categorical.py\u001b[0m in \u001b[0;36mestablish_variables\u001b[0;34m(self, x, y, hue, data, orient, order, hue_order, units)\u001b[0m\n\u001b[1;32m    153\u001b[0m \u001b[0;34m\u001b[0m\u001b[0m\n\u001b[1;32m    154\u001b[0m             \u001b[0;31m# Figure out the plotting orientation\u001b[0m\u001b[0;34m\u001b[0m\u001b[0;34m\u001b[0m\u001b[0;34m\u001b[0m\u001b[0m\n\u001b[0;32m--> 155\u001b[0;31m             \u001b[0morient\u001b[0m \u001b[0;34m=\u001b[0m \u001b[0mself\u001b[0m\u001b[0;34m.\u001b[0m\u001b[0minfer_orient\u001b[0m\u001b[0;34m(\u001b[0m\u001b[0mx\u001b[0m\u001b[0;34m,\u001b[0m \u001b[0my\u001b[0m\u001b[0;34m,\u001b[0m \u001b[0morient\u001b[0m\u001b[0;34m)\u001b[0m\u001b[0;34m\u001b[0m\u001b[0;34m\u001b[0m\u001b[0m\n\u001b[0m\u001b[1;32m    156\u001b[0m \u001b[0;34m\u001b[0m\u001b[0m\n\u001b[1;32m    157\u001b[0m             \u001b[0;31m# Option 2a:\u001b[0m\u001b[0;34m\u001b[0m\u001b[0;34m\u001b[0m\u001b[0;34m\u001b[0m\u001b[0m\n",
      "\u001b[0;32m/opt/conda/lib/python3.7/site-packages/seaborn/categorical.py\u001b[0m in \u001b[0;36minfer_orient\u001b[0;34m(self, x, y, orient)\u001b[0m\n\u001b[1;32m    358\u001b[0m             \u001b[0;32melse\u001b[0m\u001b[0;34m:\u001b[0m\u001b[0;34m\u001b[0m\u001b[0;34m\u001b[0m\u001b[0m\n\u001b[1;32m    359\u001b[0m                 \u001b[0;32mreturn\u001b[0m \u001b[0;34m\"h\"\u001b[0m\u001b[0;34m\u001b[0m\u001b[0;34m\u001b[0m\u001b[0m\n\u001b[0;32m--> 360\u001b[0;31m         \u001b[0;32melif\u001b[0m \u001b[0mis_not_numeric\u001b[0m\u001b[0;34m(\u001b[0m\u001b[0my\u001b[0m\u001b[0;34m)\u001b[0m\u001b[0;34m:\u001b[0m\u001b[0;34m\u001b[0m\u001b[0;34m\u001b[0m\u001b[0m\n\u001b[0m\u001b[1;32m    361\u001b[0m             \u001b[0;32mif\u001b[0m \u001b[0mis_not_numeric\u001b[0m\u001b[0;34m(\u001b[0m\u001b[0mx\u001b[0m\u001b[0;34m)\u001b[0m\u001b[0;34m:\u001b[0m\u001b[0;34m\u001b[0m\u001b[0;34m\u001b[0m\u001b[0m\n\u001b[1;32m    362\u001b[0m                 \u001b[0;32mraise\u001b[0m \u001b[0mValueError\u001b[0m\u001b[0;34m(\u001b[0m\u001b[0mno_numeric\u001b[0m\u001b[0;34m)\u001b[0m\u001b[0;34m\u001b[0m\u001b[0;34m\u001b[0m\u001b[0m\n",
      "\u001b[0;32m/opt/conda/lib/python3.7/site-packages/seaborn/categorical.py\u001b[0m in \u001b[0;36mis_not_numeric\u001b[0;34m(s)\u001b[0m\n\u001b[1;32m    338\u001b[0m         \u001b[0;32mdef\u001b[0m \u001b[0mis_not_numeric\u001b[0m\u001b[0;34m(\u001b[0m\u001b[0ms\u001b[0m\u001b[0;34m)\u001b[0m\u001b[0;34m:\u001b[0m\u001b[0;34m\u001b[0m\u001b[0;34m\u001b[0m\u001b[0m\n\u001b[1;32m    339\u001b[0m             \u001b[0;32mtry\u001b[0m\u001b[0;34m:\u001b[0m\u001b[0;34m\u001b[0m\u001b[0;34m\u001b[0m\u001b[0m\n\u001b[0;32m--> 340\u001b[0;31m                 \u001b[0mnp\u001b[0m\u001b[0;34m.\u001b[0m\u001b[0masarray\u001b[0m\u001b[0;34m(\u001b[0m\u001b[0ms\u001b[0m\u001b[0;34m,\u001b[0m \u001b[0mdtype\u001b[0m\u001b[0;34m=\u001b[0m\u001b[0mnp\u001b[0m\u001b[0;34m.\u001b[0m\u001b[0mfloat\u001b[0m\u001b[0;34m)\u001b[0m\u001b[0;34m\u001b[0m\u001b[0;34m\u001b[0m\u001b[0m\n\u001b[0m\u001b[1;32m    341\u001b[0m             \u001b[0;32mexcept\u001b[0m \u001b[0mValueError\u001b[0m\u001b[0;34m:\u001b[0m\u001b[0;34m\u001b[0m\u001b[0;34m\u001b[0m\u001b[0m\n\u001b[1;32m    342\u001b[0m                 \u001b[0;32mreturn\u001b[0m \u001b[0;32mTrue\u001b[0m\u001b[0;34m\u001b[0m\u001b[0;34m\u001b[0m\u001b[0m\n",
      "\u001b[0;32m/opt/conda/lib/python3.7/site-packages/numpy/core/_asarray.py\u001b[0m in \u001b[0;36masarray\u001b[0;34m(a, dtype, order)\u001b[0m\n\u001b[1;32m     83\u001b[0m \u001b[0;34m\u001b[0m\u001b[0m\n\u001b[1;32m     84\u001b[0m     \"\"\"\n\u001b[0;32m---> 85\u001b[0;31m     \u001b[0;32mreturn\u001b[0m \u001b[0marray\u001b[0m\u001b[0;34m(\u001b[0m\u001b[0ma\u001b[0m\u001b[0;34m,\u001b[0m \u001b[0mdtype\u001b[0m\u001b[0;34m,\u001b[0m \u001b[0mcopy\u001b[0m\u001b[0;34m=\u001b[0m\u001b[0;32mFalse\u001b[0m\u001b[0;34m,\u001b[0m \u001b[0morder\u001b[0m\u001b[0;34m=\u001b[0m\u001b[0morder\u001b[0m\u001b[0;34m)\u001b[0m\u001b[0;34m\u001b[0m\u001b[0;34m\u001b[0m\u001b[0m\n\u001b[0m\u001b[1;32m     86\u001b[0m \u001b[0;34m\u001b[0m\u001b[0m\n\u001b[1;32m     87\u001b[0m \u001b[0;34m\u001b[0m\u001b[0m\n",
      "\u001b[0;31mTypeError\u001b[0m: float() argument must be a string or a number, not 'LogisticRegression'"
     ]
    },
    {
     "data": {
      "image/png": "[encoded data removed]",
      "text/plain": [
       "<Figure size 1152x360 with 1 Axes>"
      ]
     },
     "metadata": {},
     "output_type": "display_data"
    }
   ],
   "source": [
    "accuracies = {}\n",
    "accuracies['Logistic Regression'] = lr_clf\n",
    "accuracies['KNeighbors Classifier'] = knn_clf\n",
    "accuracies['Support Vector Machine'] = svm_clf \n",
    "accuracies['Decision Tree'] = tree_clf\n",
    "accuracies['Random Forest'] = rf_clf \n",
    "accuracies['XGB Classifier'] = xgb_clf\n",
    "accuracies['Naive Bayes'] = nb\n",
    "\n",
    "colors = [\"purple\", \"green\", \"orange\", \"magenta\",\"#CFC60E\",\"#0FBBAE\",\"red\"]\n",
    "sns.set_style(\"whitegrid\")\n",
    "plt.figure(figsize=(16,5))\n",
    "plt.yticks(np.arange(0,100,10))\n",
    "plt.ylabel(\"Accuracy %\")\n",
    "plt.xlabel(\"Algorithms\")\n",
    "sns.barplot(x=list(accuracies.keys()), y=list(accuracies.values()), palette=colors)\n",
    "plt.show()"
   ]
  },
  {
   "cell_type": "markdown",
   "metadata": {
    "id": "3sIOJbOrQJfp",
    "papermill": {
     "duration": 0.173484,
     "end_time": "2020-11-23T11:32:43.555371",
     "exception": false,
     "start_time": "2020-11-23T11:32:43.381887",
     "status": "completed"
    },
    "tags": []
   },
   "source": [
    "## Confusion Matrix"
   ]
  },
  {
   "cell_type": "code",
   "execution_count": 49,
   "metadata": {
    "execution": {
     "iopub.execute_input": "2020-11-23T11:32:44.000463Z",
     "iopub.status.busy": "2020-11-23T11:32:43.999432Z",
     "iopub.status.idle": "2020-11-23T11:32:44.370885Z",
     "shell.execute_reply": "2020-11-23T11:32:44.371658Z"
    },
    "id": "gMMdJa97QKRT",
    "outputId": "1241b018-7a55-41dd-95bf-45c5afa00e4d",
    "papermill": {
     "duration": 0.613516,
     "end_time": "2020-11-23T11:32:44.371826",
     "exception": false,
     "start_time": "2020-11-23T11:32:43.758310",
     "status": "completed"
    },
    "tags": []
   },
   "outputs": [],
   "source": [
    "# Predicted values\n",
    "y_head_lr = lr_clf.predict(x_test)\n",
    "y_head_knn = knn_clf.predict(x_test)\n",
    "y_head_svm = svm_clf.predict(x_test)\n",
    "y_head_nb = nb.predict(x_test)\n",
    "y_head_dtc = tree_clf.predict(x_test)\n",
    "y_head_rf =  rf_clf.predict(x_test)\n",
    "y_head_XGB =  xgb_clf.predict(x_test)\n"
   ]
  },
  {
   "cell_type": "code",
   "execution_count": 50,
   "metadata": {
    "execution": {
     "iopub.execute_input": "2020-11-23T11:32:44.718136Z",
     "iopub.status.busy": "2020-11-23T11:32:44.717337Z",
     "iopub.status.idle": "2020-11-23T11:32:44.720622Z",
     "shell.execute_reply": "2020-11-23T11:32:44.720140Z"
    },
    "papermill": {
     "duration": 0.097501,
     "end_time": "2020-11-23T11:32:44.720745",
     "exception": false,
     "start_time": "2020-11-23T11:32:44.623244",
     "status": "completed"
    },
    "tags": []
   },
   "outputs": [],
   "source": [
    "from sklearn.metrics import confusion_matrix\n",
    "\n",
    "cm_lr = confusion_matrix(y_test,y_head_lr)\n",
    "cm_knn = confusion_matrix(y_test,y_head_knn)\n",
    "cm_svm = confusion_matrix(y_test,y_head_svm)\n",
    "cm_nb = confusion_matrix(y_test,y_head_nb)\n",
    "cm_dtc = confusion_matrix(y_test,y_head_dtc)\n",
    "cm_rf = confusion_matrix(y_test,y_head_rf)\n",
    "cm_xgb = confusion_matrix(y_test,y_head_XGB)"
   ]
  },
  {
   "cell_type": "code",
   "execution_count": 51,
   "metadata": {
    "execution": {
     "iopub.execute_input": "2020-11-23T11:32:44.915951Z",
     "iopub.status.busy": "2020-11-23T11:32:44.910379Z",
     "iopub.status.idle": "2020-11-23T11:32:45.855694Z",
     "shell.execute_reply": "2020-11-23T11:32:45.861465Z"
    },
    "id": "1rwcZz0XRHIJ",
    "papermill": {
     "duration": 1.053829,
     "end_time": "2020-11-23T11:32:45.861698",
     "exception": false,
     "start_time": "2020-11-23T11:32:44.807869",
     "status": "completed"
    },
    "tags": []
   },
   "outputs": [
    {
     "data": {
      "image/png": "[encoded data removed]",
      "text/plain": [
       "<Figure size 1728x1080 with 7 Axes>"
      ]
     },
     "metadata": {},
     "output_type": "display_data"
    }
   ],
   "source": [
    "plt.figure(figsize=(24,15))\n",
    "\n",
    "plt.suptitle(\"Confusion Matrixes\",fontsize=24)\n",
    "plt.subplots_adjust(wspace = 0.4, hspace= 0.4)\n",
    "\n",
    "plt.subplot(3,3,1)\n",
    "plt.title(\"Logistic Regression Confusion Matrix\")\n",
    "sns.heatmap(cm_lr,annot=True,cmap=\"Blues\",fmt=\"d\",cbar=False, annot_kws={\"size\": 24})\n",
    "\n",
    "plt.subplot(3,3,2)\n",
    "plt.title(\"K Nearest Neighbors Confusion Matrix\")\n",
    "sns.heatmap(cm_knn,annot=True,cmap=\"Blues\",fmt=\"d\",cbar=False, annot_kws={\"size\": 24})\n",
    "\n",
    "plt.subplot(3,3,3)\n",
    "plt.title(\"Support Vector Machine Confusion Matrix\")\n",
    "sns.heatmap(cm_svm,annot=True,cmap=\"Blues\",fmt=\"d\",cbar=False, annot_kws={\"size\": 24})\n",
    "\n",
    "plt.subplot(3,3,4)\n",
    "plt.title(\"Naive Bayes Confusion Matrix\")\n",
    "sns.heatmap(cm_nb,annot=True,cmap=\"Blues\",fmt=\"d\",cbar=False, annot_kws={\"size\": 24})\n",
    "\n",
    "plt.subplot(3,3,5)\n",
    "plt.title(\"Decision Tree Classifier Confusion Matrix\")\n",
    "sns.heatmap(cm_dtc,annot=True,cmap=\"Blues\",fmt=\"d\",cbar=False, annot_kws={\"size\": 24})\n",
    "\n",
    "plt.subplot(3,3,6)\n",
    "plt.title(\"Random Forest Confusion Matrix\")\n",
    "sns.heatmap(cm_rf,annot=True,cmap=\"Blues\",fmt=\"d\",cbar=False, annot_kws={\"size\": 24})\n",
    "\n",
    "plt.subplot(3,3,7)\n",
    "plt.title(\"XGB Classifier Confusion Matrix\")\n",
    "sns.heatmap(cm_xgb,annot=True,cmap=\"Blues\",fmt=\"d\",cbar=False, annot_kws={\"size\": 24})\n",
    "\n",
    "\n",
    "plt.show()\n",
    "\n"
   ]
  }
 ],
 "metadata": {
  "kernelspec": {
   "display_name": "Python 3",
   "language": "python",
   "name": "python3"
  },
  "language_info": {
   "codemirror_mode": {
    "name": "ipython",
    "version": 3
   },
   "file_extension": ".py",
   "mimetype": "text/x-python",
   "name": "python",
   "nbconvert_exporter": "python",
   "pygments_lexer": "ipython3",
   "version": "3.7.6"
  },
  "papermill": {
   "duration": 32.860656,
   "end_time": "2020-11-23T11:32:46.362144",
   "environment_variables": {},
   "exception": null,
   "input_path": "__notebook__.ipynb",
   "output_path": "__notebook__.ipynb",
   "parameters": {},
   "start_time": "2020-11-23T11:32:13.501488",
   "version": "2.1.0"
  }
 },
 "nbformat": 4,
 "nbformat_minor": 4
}
